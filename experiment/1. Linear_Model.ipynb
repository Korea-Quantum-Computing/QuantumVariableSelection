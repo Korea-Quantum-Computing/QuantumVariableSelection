{
 "cells": [
  {
   "cell_type": "code",
   "execution_count": 3,
   "metadata": {},
   "outputs": [],
   "source": [
    "import os\n",
    "### QAOA_realestate가 있는 폴더로 지정\n",
    "dir_path = \"/Users/minhyeong-gyu/Documents/GitHub/QuantumVariableSelection\"\n",
    "os.chdir(dir_path)\n",
    "import sys\n",
    "module_path = dir_path + \"/Module\"\n",
    "if module_path not in sys.path:\n",
    "    sys.path.append(module_path)\n",
    "\n",
    "from optimizer import optimizer as opt\n",
    "from optimizer import basefunctions as bf\n",
    "\n",
    "import numpy as np\n",
    "import pandas as pd\n",
    "import matplotlib.pyplot as plt \n",
    "from matplotlib import font_manager, rc\n",
    "# 윈도우 한글 폰트\n",
    "# font_path = \"C:/Windows/Fonts/NGULIM.TTF\"\n",
    "# font = font_manager.FontProperties(fname=font_path).get_name()\n",
    "# rc('font', family=font)\n",
    "\n",
    "# Mac 한글 폰트\n",
    "rc('font', family='AppleGothic')\n",
    "plt.rcParams['axes.unicode_minus'] = False\n",
    "\n",
    "import seaborn as sns\n",
    "from dwave.system import LeapHybridCQMSampler\n",
    "%matplotlib inline"
   ]
  },
  {
   "cell_type": "code",
   "execution_count": 5,
   "metadata": {},
   "outputs": [],
   "source": [
    "import json\n",
    "from os import listdir\n",
    "from os.path import isfile, join\n",
    "filepath = \"result/simulation_measure_logistics/\"\n",
    "onlyfiles = [f for f in listdir(filepath) if isfile(join(filepath, f))]\n",
    "test_index = [True if onlyfiles[i][:4]==\"test\" else False for i in range(len(onlyfiles))]\n",
    "dict_list = np.array(onlyfiles)[test_index]\n",
    "\n",
    "arg_list = []\n",
    "for dict_name in dict_list:\n",
    "    with open(\"result/simulation_measure_logistics/\"+dict_name,\"r\") as f:\n",
    "        dict_temp = json.loads(f.read())\n",
    "        dict_temp[\"index\"] = dict_name[13:18]\n",
    "        arg_list +=[dict_temp]\n",
    "arg_df = []\n",
    "for i in range(len(arg_list)):\n",
    "    arg_df += [list(arg_list[i].values())]\n",
    "arg_df = pd.DataFrame(arg_df)\n",
    "key_names = arg_list[0].keys()\n",
    "arg_df.columns = key_names\n",
    "arg_df = arg_df[[arg_df.columns[-1]] + list(arg_df.columns[:-1])]\n",
    "arg_df.to_csv(\"result/simulation_measure_logistics/experient_list.csv\")"
   ]
  },
  {
   "cell_type": "code",
   "execution_count": null,
   "metadata": {},
   "outputs": [],
   "source": []
  },
  {
   "cell_type": "code",
   "execution_count": 2,
   "metadata": {},
   "outputs": [],
   "source": [
    "number_influentials =5\n",
    "number_features = 50\n",
    "number_samples = 1000\n",
    "covariance_parameter = 10\n",
    "epsilon = None\n",
    "lmbd = 0.05\n",
    "beta_coef = np.concatenate([np.random.normal(5,2,number_influentials),np.zeros(number_features-number_influentials)])\n",
    "if epsilon == None :\n",
    "    epsilon = number_influentials*5/3\n",
    "else :\n",
    "    epsilon = epsilon\n",
    "X,y = bf.generate_dependent_sample(number_samples,number_features,beta_coef,covariance_parameter=covariance_parameter,epsilon=epsilon)\n",
    "lmbd = lmbd\n",
    "Q,beta = bf.get_selecting_qubo(X,y)"
   ]
  },
  {
   "cell_type": "code",
   "execution_count": 83,
   "metadata": {},
   "outputs": [
    {
     "name": "stderr",
     "output_type": "stream",
     "text": [
      "/Users/minhyeong-gyu/Documents/GitHub/QuantumVariableSelection/Module/optimizer/optimizer.py:92: RuntimeWarning: overflow encountered in exp\n",
      "  Q,beta = bf.get_selecting_qubo(X,y)\n",
      "/Users/minhyeong-gyu/Documents/GitHub/QuantumVariableSelection/Module/optimizer/basefunctions.py:90: RuntimeWarning: invalid value encountered in reciprocal\n",
      "  SSRF = y.T@(np.identity(n) - projection(X_pre))@y/np.cov(y)\n"
     ]
    }
   ],
   "source": [
    "ga_qubo = opt.GeneticAlgorithm(\"QUBO\",\n",
    "                n_gen=100, \n",
    "                n_sol=40, \n",
    "                n_par=20 )\n",
    "ga_qubo_result = ga_qubo.optimize(X,y,lmbd)\n",
    "sa_qubo = opt.SimulatedAnnealing(\"QUBO\")\n",
    "sa_qubo_result = sa_qubo.optimize(X,y,lmbd,reps=10)"
   ]
  },
  {
   "cell_type": "code",
   "execution_count": null,
   "metadata": {},
   "outputs": [],
   "source": []
  },
  {
   "cell_type": "code",
   "execution_count": 13,
   "metadata": {},
   "outputs": [
    {
     "name": "stderr",
     "output_type": "stream",
     "text": [
      "/Users/minhyeong-gyu/Documents/GitHub/QuantumVariableSelection/Module/optimizer/basefunctions.py:88: RuntimeWarning: invalid value encountered in reciprocal\n",
      "  result = np.array(SSRP)**(-1)*SSRF\n",
      "/Users/minhyeong-gyu/Documents/GitHub/QuantumVariableSelection/Module/optimizer/optimizer.py:91: RuntimeWarning: overflow encountered in exp\n",
      "  if np.random.rand(1) <= min(1, np.exp((bf.get_QB(theta_temp,Q,-1*beta,lamda)-bf.get_QB(theta_star,Q,-1*beta,lamda))/tau)):\n"
     ]
    }
   ],
   "source": [
    "ga_aic = opt.GeneticAlgorithm(mode = \"AIC\",\n",
    "                n_gen=100, \n",
    "                n_sol=40, \n",
    "                n_par=20)\n",
    "ga_aic_result = ga_qubo.optimize(X,y,lmbd)\n",
    "sa_aic = opt.SimulatedAnnealing(\"AIC\")\n",
    "sa_aic_result = sa_qubo.optimize(X,y,lmbd,reps=10)"
   ]
  },
  {
   "cell_type": "code",
   "execution_count": 14,
   "metadata": {},
   "outputs": [],
   "source": [
    "X_sa_qubo = X[:,sa_qubo_result.astype(bool)]\n",
    "X_ga_qubo = X[:,ga_qubo_result.astype(bool)]\n",
    "X_sa_aic = X[:,sa_aic_result.astype(bool)]\n",
    "X_ga_aic = X[:,ga_aic_result.astype(bool)]"
   ]
  },
  {
   "cell_type": "code",
   "execution_count": 18,
   "metadata": {},
   "outputs": [
    {
     "name": "stderr",
     "output_type": "stream",
     "text": [
      "/Users/minhyeong-gyu/Documents/GitHub/QuantumVariableSelection/Module/optimizer/basefunctions.py:88: RuntimeWarning: invalid value encountered in reciprocal\n",
      "  result = np.array(SSRP)**(-1)*SSRF\n"
     ]
    }
   ],
   "source": [
    "AIC_list = [\n",
    "    bf.get_aic(X,y),\n",
    "    bf.get_aic(X_sa_aic,y),\n",
    "    bf.get_aic(X_ga_aic,y),\n",
    "    bf.get_aic(X_sa_qubo,y),\n",
    "    bf.get_aic(X_ga_qubo,y)]\n",
    "\n",
    "QUBO_list = [\n",
    "    bf.get_QUBO(X,y,lmbd),\n",
    "    bf.get_QUBO(X_sa_aic,y,lmbd),\n",
    "    bf.get_QUBO(X_ga_aic,y,lmbd),\n",
    "    bf.get_QUBO(X_sa_qubo,y,lmbd),\n",
    "    bf.get_QUBO(X_ga_qubo,y,lmbd)]\n",
    "\n",
    "MSPE_list = [\n",
    "    bf.get_MSPE(X,y,0.8),\n",
    "    bf.get_MSPE(X_sa_aic,y,0.8),\n",
    "    bf.get_MSPE(X_ga_aic,y,0.8),\n",
    "    bf.get_MSPE(X_sa_qubo,y,0.8),\n",
    "    bf.get_MSPE(X_ga_qubo,y,0.8)]\n",
    "\n",
    "R2_list = [\n",
    "    bf.get_prediction_R2(X,y,0.8),\n",
    "    bf.get_prediction_R2(X_sa_aic,y,0.8),\n",
    "    bf.get_prediction_R2(X_ga_aic,y,0.8),    \n",
    "    bf.get_prediction_R2(X_sa_qubo,y,0.8),\n",
    "    bf.get_prediction_R2(X_ga_qubo,y,0.8)]\n",
    "\n",
    "CN_list = [\n",
    "    bf.get_CN(X),\n",
    "    bf.get_CN(X_sa_aic),\n",
    "    bf.get_CN(X_ga_aic),\n",
    "    bf.get_CN(X_sa_qubo),\n",
    "    bf.get_CN(X_ga_qubo)]\n",
    "\n",
    "\n",
    "result_table = pd.DataFrame([AIC_list,QUBO_list,MSPE_list,R2_list,CN_list])\n",
    "result_table.columns = [\"Original\",\"SA_AIC\",\"GA_AIC\",\"SA_QUBO\",\"GA_QUBO\"]\n",
    "result_table.index = [\"AIC_list\",\"QUBO_list\",\"MSPE\",\"R2\",\"CN\"]"
   ]
  },
  {
   "cell_type": "code",
   "execution_count": 19,
   "metadata": {},
   "outputs": [
    {
     "data": {
      "text/html": [
       "<div>\n",
       "<style scoped>\n",
       "    .dataframe tbody tr th:only-of-type {\n",
       "        vertical-align: middle;\n",
       "    }\n",
       "\n",
       "    .dataframe tbody tr th {\n",
       "        vertical-align: top;\n",
       "    }\n",
       "\n",
       "    .dataframe thead th {\n",
       "        text-align: right;\n",
       "    }\n",
       "</style>\n",
       "<table border=\"1\" class=\"dataframe\">\n",
       "  <thead>\n",
       "    <tr style=\"text-align: right;\">\n",
       "      <th></th>\n",
       "      <th>Original</th>\n",
       "      <th>SA_AIC</th>\n",
       "      <th>GA_AIC</th>\n",
       "      <th>SA_QUBO</th>\n",
       "      <th>GA_QUBO</th>\n",
       "    </tr>\n",
       "  </thead>\n",
       "  <tbody>\n",
       "    <tr>\n",
       "      <th>AIC_list</th>\n",
       "      <td>6895.977379</td>\n",
       "      <td>8162.261767</td>\n",
       "      <td>8372.115699</td>\n",
       "      <td>8172.906549</td>\n",
       "      <td>8297.854468</td>\n",
       "    </tr>\n",
       "    <tr>\n",
       "      <th>QUBO_list</th>\n",
       "      <td>5.715941</td>\n",
       "      <td>1.914223</td>\n",
       "      <td>2.370875</td>\n",
       "      <td>1.741336</td>\n",
       "      <td>2.387763</td>\n",
       "    </tr>\n",
       "    <tr>\n",
       "      <th>MSPE</th>\n",
       "      <td>2.388663</td>\n",
       "      <td>4.651134</td>\n",
       "      <td>4.770355</td>\n",
       "      <td>4.289099</td>\n",
       "      <td>4.331387</td>\n",
       "    </tr>\n",
       "    <tr>\n",
       "      <th>R2</th>\n",
       "      <td>0.627703</td>\n",
       "      <td>0.406248</td>\n",
       "      <td>0.261583</td>\n",
       "      <td>0.394170</td>\n",
       "      <td>0.268922</td>\n",
       "    </tr>\n",
       "    <tr>\n",
       "      <th>CN</th>\n",
       "      <td>25.695256</td>\n",
       "      <td>3.561128</td>\n",
       "      <td>4.062565</td>\n",
       "      <td>2.556361</td>\n",
       "      <td>4.318683</td>\n",
       "    </tr>\n",
       "  </tbody>\n",
       "</table>\n",
       "</div>"
      ],
      "text/plain": [
       "              Original       SA_AIC       GA_AIC      SA_QUBO      GA_QUBO\n",
       "AIC_list   6895.977379  8162.261767  8372.115699  8172.906549  8297.854468\n",
       "QUBO_list     5.715941     1.914223     2.370875     1.741336     2.387763\n",
       "MSPE          2.388663     4.651134     4.770355     4.289099     4.331387\n",
       "R2            0.627703     0.406248     0.261583     0.394170     0.268922\n",
       "CN           25.695256     3.561128     4.062565     2.556361     4.318683"
      ]
     },
     "execution_count": 19,
     "metadata": {},
     "output_type": "execute_result"
    }
   ],
   "source": [
    "result_table"
   ]
  },
  {
   "cell_type": "code",
   "execution_count": 44,
   "metadata": {},
   "outputs": [
    {
     "name": "stderr",
     "output_type": "stream",
     "text": [
      "/Users/minhyeong-gyu/Documents/GitHub/QuantumVariableSelection/Module/optimizer/basefunctions.py:88: RuntimeWarning: invalid value encountered in reciprocal\n",
      "  result = np.array(SSRP)**(-1)*SSRF\n",
      "/Users/minhyeong-gyu/Documents/GitHub/QuantumVariableSelection/Module/optimizer/optimizer.py:91: RuntimeWarning: overflow encountered in exp\n",
      "  if np.random.rand(1) <= min(1, np.exp((bf.get_QB(theta_temp,Q,-1*beta,lamda)-bf.get_QB(theta_star,Q,-1*beta,lamda))/tau)):\n",
      "/Users/minhyeong-gyu/Documents/GitHub/QuantumVariableSelection/Module/optimizer/optimizer.py:91: RuntimeWarning: overflow encountered in exp\n",
      "  if np.random.rand(1) <= min(1, np.exp((bf.get_QB(theta_temp,Q,-1*beta,lamda)-bf.get_QB(theta_star,Q,-1*beta,lamda))/tau)):\n",
      "/Users/minhyeong-gyu/Documents/GitHub/QuantumVariableSelection/Module/optimizer/basefunctions.py:88: RuntimeWarning: invalid value encountered in reciprocal\n",
      "  result = np.array(SSRP)**(-1)*SSRF\n",
      "/Users/minhyeong-gyu/Documents/GitHub/QuantumVariableSelection/Module/optimizer/basefunctions.py:88: RuntimeWarning: invalid value encountered in reciprocal\n",
      "  result = np.array(SSRP)**(-1)*SSRF\n",
      "/Users/minhyeong-gyu/Documents/GitHub/QuantumVariableSelection/Module/optimizer/optimizer.py:91: RuntimeWarning: overflow encountered in exp\n",
      "  if np.random.rand(1) <= min(1, np.exp((bf.get_QB(theta_temp,Q,-1*beta,lamda)-bf.get_QB(theta_star,Q,-1*beta,lamda))/tau)):\n",
      "/Users/minhyeong-gyu/Documents/GitHub/QuantumVariableSelection/Module/optimizer/basefunctions.py:88: RuntimeWarning: invalid value encountered in reciprocal\n",
      "  result = np.array(SSRP)**(-1)*SSRF\n",
      "/Users/minhyeong-gyu/Documents/GitHub/QuantumVariableSelection/Module/optimizer/optimizer.py:91: RuntimeWarning: overflow encountered in exp\n",
      "  if np.random.rand(1) <= min(1, np.exp((bf.get_QB(theta_temp,Q,-1*beta,lamda)-bf.get_QB(theta_star,Q,-1*beta,lamda))/tau)):\n",
      "/Users/minhyeong-gyu/Documents/GitHub/QuantumVariableSelection/Module/optimizer/basefunctions.py:88: RuntimeWarning: invalid value encountered in reciprocal\n",
      "  result = np.array(SSRP)**(-1)*SSRF\n"
     ]
    }
   ],
   "source": [
    "AIC_list_total =[]\n",
    "QUBO_list_total = []\n",
    "MSPE_list_total = []\n",
    "R2_list_total = []\n",
    "CN_list_total = []\n",
    "\n",
    "for ite in range(2):\n",
    "    beta_coef = np.concatenate([np.random.normal(5,2,20),np.zeros(80)])\n",
    "    X,y = bf.generate_dependent_sample(1000,100,beta_coef,epsilon=30)\n",
    "    lmbd = 0.05\n",
    "\n",
    "    ga_qubo = opt.GeneticAlgorithm(\"QUBO\")\n",
    "    ga_qubo_result = ga_qubo.optimize(X,y,lmbd)\n",
    "    sa_qubo = opt.SimulatedAnnealing(\"QUBO\")\n",
    "    sa_qubo_result = sa_qubo.optimize(X,y,lmbd,reps=10)\n",
    "    ga_aic = opt.GeneticAlgorithm(mode = \"AIC\")\n",
    "    ga_aic_result = ga_qubo.optimize(X,y,lmbd)\n",
    "    sa_aic = opt.SimulatedAnnealing(\"AIC\")\n",
    "    sa_aic_result = sa_qubo.optimize(X,y,lmbd,reps=10)\n",
    "\n",
    "    X_sa_qubo = X[:,sa_qubo_result.astype(bool)]\n",
    "    X_ga_qubo = X[:,ga_qubo_result.astype(bool)]\n",
    "    X_sa_aic = X[:,sa_aic_result.astype(bool)]\n",
    "    X_ga_aic = X[:,ga_aic_result.astype(bool)]\n",
    "\n",
    "    AIC_list = [\n",
    "        bf.get_aic(X,y),\n",
    "        bf.get_aic(X_sa_aic,y),\n",
    "        bf.get_aic(X_ga_aic,y),\n",
    "        bf.get_aic(X_sa_qubo,y),\n",
    "        bf.get_aic(X_ga_qubo,y)]\n",
    "\n",
    "    QUBO_list = [\n",
    "        bf.get_QUBO(X,y,lmbd),\n",
    "        bf.get_QUBO(X_sa_aic,y,lmbd),\n",
    "        bf.get_QUBO(X_ga_aic,y,lmbd),\n",
    "        bf.get_QUBO(X_sa_qubo,y,lmbd),\n",
    "        bf.get_QUBO(X_ga_qubo,y,lmbd)]\n",
    "\n",
    "    MSPE_list = [\n",
    "        bf.get_MSPE(X,y,0.8),\n",
    "        bf.get_MSPE(X_sa_aic,y,0.8),\n",
    "        bf.get_MSPE(X_ga_aic,y,0.8),\n",
    "        bf.get_MSPE(X_sa_qubo,y,0.8),\n",
    "        bf.get_MSPE(X_ga_qubo,y,0.8)]\n",
    "\n",
    "    R2_list = [\n",
    "        bf.get_prediction_R2(X,y,0.8),\n",
    "        bf.get_prediction_R2(X_sa_aic,y,0.8),\n",
    "        bf.get_prediction_R2(X_ga_aic,y,0.8),    \n",
    "        bf.get_prediction_R2(X_sa_qubo,y,0.8),\n",
    "        bf.get_prediction_R2(X_ga_qubo,y,0.8)]\n",
    "\n",
    "    CN_list = [\n",
    "        bf.get_CN(X),\n",
    "        bf.get_CN(X_sa_aic),\n",
    "        bf.get_CN(X_ga_aic),\n",
    "        bf.get_CN(X_sa_qubo),\n",
    "        bf.get_CN(X_ga_qubo)]\n",
    "\n",
    "    AIC_list_total += [AIC_list]\n",
    "    QUBO_list_total += [QUBO_list]\n",
    "    MSPE_list_total += [MSPE_list]\n",
    "    R2_list_total += [R2_list]\n",
    "    CN_list_total += [CN_list]\n",
    "\n",
    "target = AIC_list_total\n",
    "AIC_result = pd.DataFrame(target).apply(lambda x: str(round(np.mean(x),2)))+\"(\"+pd.DataFrame(target).apply(lambda x: str(round(np.std(x),2)))+\")\"\n",
    "target = QUBO_list_total\n",
    "QUBO_result = pd.DataFrame(target).apply(lambda x: str(round(np.mean(x),2)))+\"(\"+pd.DataFrame(target).apply(lambda x: str(round(np.std(x),2)))+\")\"\n",
    "target = MSPE_list_total\n",
    "MSPE_result = pd.DataFrame(target).apply(lambda x: str(round(np.mean(x),2)))+\"(\"+pd.DataFrame(target).apply(lambda x: str(round(np.std(x),2)))+\")\"\n",
    "target = R2_list_total\n",
    "R2_result = pd.DataFrame(target).apply(lambda x: str(round(np.mean(x),2)))+\"(\"+pd.DataFrame(target).apply(lambda x: str(round(np.std(x),2)))+\")\"\n",
    "target = CN_list_total\n",
    "CN_result = pd.DataFrame(target).apply(lambda x: str(round(np.mean(x),2)))+\"(\"+pd.DataFrame(target).apply(lambda x: str(round(np.std(x),2)))+\")\"\n",
    "\n",
    "\n",
    "result_table = pd.DataFrame([AIC_result,QUBO_result,MSPE_result,R2_result,CN_result])\n",
    "result_table.columns = [\"Original\",\"SA_AIC\",\"GA_AIC\",\"SA_QUBO\",\"GA_QUBO\"]\n",
    "result_table.index = [\"AIC_list\",\"QUBO_list\",\"MSPE\",\"R2\",\"CN\"]\n",
    "\n"
   ]
  },
  {
   "cell_type": "code",
   "execution_count": 53,
   "metadata": {},
   "outputs": [],
   "source": [
    "from datetime import datetime\n",
    "\n",
    "now = datetime.now()\n",
    "current_time = now.strftime(\"%H:%M:%S\")"
   ]
  },
  {
   "cell_type": "code",
   "execution_count": 68,
   "metadata": {},
   "outputs": [],
   "source": [
    "import random"
   ]
  },
  {
   "cell_type": "code",
   "execution_count": 80,
   "metadata": {},
   "outputs": [
    {
     "data": {
      "text/plain": [
       "'22351'"
      ]
     },
     "execution_count": 80,
     "metadata": {},
     "output_type": "execute_result"
    }
   ],
   "source": [
    "random_index = str(random.randrange(0,99999)).zfill(5)"
   ]
  },
  {
   "cell_type": "code",
   "execution_count": 45,
   "metadata": {},
   "outputs": [
    {
     "data": {
      "text/html": [
       "<div>\n",
       "<style scoped>\n",
       "    .dataframe tbody tr th:only-of-type {\n",
       "        vertical-align: middle;\n",
       "    }\n",
       "\n",
       "    .dataframe tbody tr th {\n",
       "        vertical-align: top;\n",
       "    }\n",
       "\n",
       "    .dataframe thead th {\n",
       "        text-align: right;\n",
       "    }\n",
       "</style>\n",
       "<table border=\"1\" class=\"dataframe\">\n",
       "  <thead>\n",
       "    <tr style=\"text-align: right;\">\n",
       "      <th></th>\n",
       "      <th>Original</th>\n",
       "      <th>SA_AIC</th>\n",
       "      <th>GA_AIC</th>\n",
       "      <th>SA_QUBO</th>\n",
       "      <th>GA_QUBO</th>\n",
       "    </tr>\n",
       "  </thead>\n",
       "  <tbody>\n",
       "    <tr>\n",
       "      <th>AIC_list</th>\n",
       "      <td>6872.08(14.77)</td>\n",
       "      <td>7784.07(595.19)</td>\n",
       "      <td>7894.9(38.8)</td>\n",
       "      <td>7823.93(627.73)</td>\n",
       "      <td>7846.85(30.43)</td>\n",
       "    </tr>\n",
       "    <tr>\n",
       "      <th>QUBO_list</th>\n",
       "      <td>5.92(0.74)</td>\n",
       "      <td>3.1(1.13)</td>\n",
       "      <td>3.8(0.45)</td>\n",
       "      <td>3.12(1.22)</td>\n",
       "      <td>3.79(0.37)</td>\n",
       "    </tr>\n",
       "    <tr>\n",
       "      <th>MSPE</th>\n",
       "      <td>2.24(0.07)</td>\n",
       "      <td>3.68(1.01)</td>\n",
       "      <td>3.74(0.09)</td>\n",
       "      <td>3.68(1.24)</td>\n",
       "      <td>3.75(0.17)</td>\n",
       "    </tr>\n",
       "    <tr>\n",
       "      <th>R2</th>\n",
       "      <td>0.71(0.03)</td>\n",
       "      <td>0.56(0.1)</td>\n",
       "      <td>0.5(0.03)</td>\n",
       "      <td>0.52(0.11)</td>\n",
       "      <td>0.52(0.02)</td>\n",
       "    </tr>\n",
       "    <tr>\n",
       "      <th>CN</th>\n",
       "      <td>27.29(0.97)</td>\n",
       "      <td>2.66(0.59)</td>\n",
       "      <td>5.41(0.28)</td>\n",
       "      <td>2.74(0.19)</td>\n",
       "      <td>5.26(0.13)</td>\n",
       "    </tr>\n",
       "  </tbody>\n",
       "</table>\n",
       "</div>"
      ],
      "text/plain": [
       "                 Original           SA_AIC        GA_AIC          SA_QUBO  \\\n",
       "AIC_list   6872.08(14.77)  7784.07(595.19)  7894.9(38.8)  7823.93(627.73)   \n",
       "QUBO_list      5.92(0.74)        3.1(1.13)     3.8(0.45)       3.12(1.22)   \n",
       "MSPE           2.24(0.07)       3.68(1.01)    3.74(0.09)       3.68(1.24)   \n",
       "R2             0.71(0.03)        0.56(0.1)     0.5(0.03)       0.52(0.11)   \n",
       "CN            27.29(0.97)       2.66(0.59)    5.41(0.28)       2.74(0.19)   \n",
       "\n",
       "                  GA_QUBO  \n",
       "AIC_list   7846.85(30.43)  \n",
       "QUBO_list      3.79(0.37)  \n",
       "MSPE           3.75(0.17)  \n",
       "R2             0.52(0.02)  \n",
       "CN             5.26(0.13)  "
      ]
     },
     "execution_count": 45,
     "metadata": {},
     "output_type": "execute_result"
    }
   ],
   "source": [
    "result_table.to_csv(\"result/simulation/linear_samples\"+current_time+\".csv\")"
   ]
  },
  {
   "cell_type": "code",
   "execution_count": 7,
   "metadata": {},
   "outputs": [],
   "source": [
    "from os import listdir\n",
    "from os.path import isfile, join\n",
    "filepath = \"result/simulation/\"\n",
    "onlyfiles = [f for f in listdir(filepath) if isfile(join(filepath, f))]\n",
    "test_index = [True if onlyfiles[i][:4]==\"test\" else False for i in range(len(onlyfiles))]\n",
    "dict_list = np.array(onlyfiles)[test_index]"
   ]
  },
  {
   "cell_type": "code",
   "execution_count": 57,
   "metadata": {},
   "outputs": [],
   "source": [
    "import json\n",
    "  \n",
    "arg_list = []\n",
    "for dict_name in dict_list:\n",
    "    with open(\"result/simulation/\"+dict_name,\"r\") as f:\n",
    "        dict_temp = json.loads(f.read())\n",
    "        dict_temp[\"index\"] = dict_name[13:18]\n",
    "        arg_list +=[dict_temp]"
   ]
  },
  {
   "cell_type": "code",
   "execution_count": 200,
   "metadata": {},
   "outputs": [
    {
     "ename": "IndexError",
     "evalue": "list index out of range",
     "output_type": "error",
     "traceback": [
      "\u001b[0;31m---------------------------------------------------------------------------\u001b[0m",
      "\u001b[0;31mIndexError\u001b[0m                                Traceback (most recent call last)",
      "\u001b[0;32m/var/folders/r7/4kckzfxd78df0ln3wt2tjs180000gn/T/ipykernel_86167/2406445261.py\u001b[0m in \u001b[0;36m<module>\u001b[0;34m\u001b[0m\n\u001b[1;32m      3\u001b[0m     \u001b[0marg_df\u001b[0m \u001b[0;34m+=\u001b[0m \u001b[0;34m[\u001b[0m\u001b[0mlist\u001b[0m\u001b[0;34m(\u001b[0m\u001b[0marg_list\u001b[0m\u001b[0;34m[\u001b[0m\u001b[0mi\u001b[0m\u001b[0;34m]\u001b[0m\u001b[0;34m.\u001b[0m\u001b[0mvalues\u001b[0m\u001b[0;34m(\u001b[0m\u001b[0;34m)\u001b[0m\u001b[0;34m)\u001b[0m\u001b[0;34m]\u001b[0m\u001b[0;34m\u001b[0m\u001b[0;34m\u001b[0m\u001b[0m\n\u001b[1;32m      4\u001b[0m \u001b[0marg_df\u001b[0m \u001b[0;34m=\u001b[0m \u001b[0mpd\u001b[0m\u001b[0;34m.\u001b[0m\u001b[0mDataFrame\u001b[0m\u001b[0;34m(\u001b[0m\u001b[0marg_df\u001b[0m\u001b[0;34m)\u001b[0m\u001b[0;34m\u001b[0m\u001b[0;34m\u001b[0m\u001b[0m\n\u001b[0;32m----> 5\u001b[0;31m \u001b[0mkey_names\u001b[0m \u001b[0;34m=\u001b[0m \u001b[0marg_list\u001b[0m\u001b[0;34m[\u001b[0m\u001b[0;36m0\u001b[0m\u001b[0;34m]\u001b[0m\u001b[0;34m.\u001b[0m\u001b[0mkeys\u001b[0m\u001b[0;34m(\u001b[0m\u001b[0;34m)\u001b[0m\u001b[0;34m\u001b[0m\u001b[0;34m\u001b[0m\u001b[0m\n\u001b[0m\u001b[1;32m      6\u001b[0m \u001b[0marg_df\u001b[0m\u001b[0;34m.\u001b[0m\u001b[0mcolumns\u001b[0m \u001b[0;34m=\u001b[0m \u001b[0mkey_names\u001b[0m\u001b[0;34m\u001b[0m\u001b[0;34m\u001b[0m\u001b[0m\n\u001b[1;32m      7\u001b[0m \u001b[0marg_df\u001b[0m \u001b[0;34m=\u001b[0m \u001b[0marg_df\u001b[0m\u001b[0;34m[\u001b[0m\u001b[0;34m[\u001b[0m\u001b[0marg_df\u001b[0m\u001b[0;34m.\u001b[0m\u001b[0mcolumns\u001b[0m\u001b[0;34m[\u001b[0m\u001b[0;34m-\u001b[0m\u001b[0;36m1\u001b[0m\u001b[0;34m]\u001b[0m\u001b[0;34m]\u001b[0m \u001b[0;34m+\u001b[0m \u001b[0mlist\u001b[0m\u001b[0;34m(\u001b[0m\u001b[0marg_df\u001b[0m\u001b[0;34m.\u001b[0m\u001b[0mcolumns\u001b[0m\u001b[0;34m[\u001b[0m\u001b[0;34m:\u001b[0m\u001b[0;34m-\u001b[0m\u001b[0;36m1\u001b[0m\u001b[0;34m]\u001b[0m\u001b[0;34m)\u001b[0m\u001b[0;34m]\u001b[0m\u001b[0;34m\u001b[0m\u001b[0;34m\u001b[0m\u001b[0m\n",
      "\u001b[0;31mIndexError\u001b[0m: list index out of range"
     ]
    }
   ],
   "source": [
    "arg_df = []\n",
    "for i in range(len(arg_list)):\n",
    "    arg_df += [list(arg_list[i].values())]\n",
    "arg_df = pd.DataFrame(arg_df)\n",
    "key_names = arg_list[0].keys()\n",
    "arg_df.columns = key_names\n",
    "arg_df = arg_df[[arg_df.columns[-1]] + list(arg_df.columns[:-1])]\n",
    "arg_df.to_csv(\"result/simulation/experient_list.csv\")"
   ]
  },
  {
   "cell_type": "code",
   "execution_count": 216,
   "metadata": {},
   "outputs": [],
   "source": [
    "def mutual_information(x1,x2,bins=10):\n",
    "    n = len(x1)\n",
    "    pr1 = np.histogram(x1,bins=bins)[0]/n+10**(-8)\n",
    "    pr2 = np.histogram(x2,bins=bins)[0]/n+10**(-8)\n",
    "    joint = np.histogram2d(x1,x2,bins=bins)[0]/n+10**(-8)\n",
    "    joint_indep = np.outer(pr1,pr2)\n",
    "    mi = 0\n",
    "    for i in range(bins) :\n",
    "        for j in range(bins) :\n",
    "            mi += joint[i,j]*np.log(joint[i,j]/joint_indep[i,j])\n",
    "    return mi\n",
    "    \n",
    "def mutual_information_matrix(X,y=None,bins=10):\n",
    "    if  type(y) != np.ndarray :\n",
    "        X = np.asarray(X)\n",
    "        p = X.shape[1]\n",
    "        mi_matrix = np.ones((p,p))\n",
    "        for i in range(p):\n",
    "            for j in range(p):\n",
    "                mi_matrix[i,j] = mutual_information(X[:,i],X[:,j],bins) \n",
    "        return mi_matrix\n",
    "    else :\n",
    "        X = np.asarray(X); y = np.asarray(y)\n",
    "        p = X.shape[1]\n",
    "        mi_vector = np.ones((p))        \n",
    "        for i in range(p):\n",
    "            mi_vector[i] = mutual_information(X[:,i],y,bins)\n",
    "        return mi_vector \n"
   ]
  },
  {
   "cell_type": "code",
   "execution_count": null,
   "metadata": {},
   "outputs": [],
   "source": []
  },
  {
   "cell_type": "code",
   "execution_count": 12,
   "metadata": {},
   "outputs": [],
   "source": [
    "number_samples = 500\n",
    "number_features = 20\n",
    "number_influentials = 8\n",
    "epsilon = 0\n",
    "covariance_parameter = 40\n",
    "beta_coef = np.concatenate([np.random.normal(5,2,number_influentials),np.zeros(number_features-number_influentials)])\n",
    "X,y = bf.generate_dependent_sample_logistic(number_samples,number_features,beta_coef,covariance_parameter=30,epsilon=0)\n",
    "y_type = \"binary\"\n",
    "lmbd = 0.01"
   ]
  },
  {
   "cell_type": "code",
   "execution_count": 3,
   "metadata": {},
   "outputs": [],
   "source": [
    "number_influentials =5\n",
    "number_features = 20\n",
    "number_samples = 1000\n",
    "covariance_parameter = 10\n",
    "epsilon = None\n",
    "lmbd = 0.05\n",
    "beta_coef = np.concatenate([np.random.normal(5,2,number_influentials),np.zeros(number_features-number_influentials)])\n",
    "if epsilon == None :\n",
    "    epsilon = number_influentials*5/3\n",
    "else :\n",
    "    epsilon = epsilon\n",
    "X,y = bf.generate_dependent_sample(number_samples,number_features,beta_coef,covariance_parameter=covariance_parameter,epsilon=epsilon)\n",
    "lmbd = lmbd"
   ]
  },
  {
   "cell_type": "code",
   "execution_count": 16,
   "metadata": {},
   "outputs": [
    {
     "name": "stdout",
     "output_type": "stream",
     "text": [
      "(20, 20) (20,)\n"
     ]
    },
    {
     "name": "stderr",
     "output_type": "stream",
     "text": [
      "/Users/minhyeong-gyu/opt/anaconda3/lib/python3.9/site-packages/sklearn/linear_model/_logistic.py:814: ConvergenceWarning: lbfgs failed to converge (status=1):\n",
      "STOP: TOTAL NO. of ITERATIONS REACHED LIMIT.\n",
      "\n",
      "Increase the number of iterations (max_iter) or scale the data as shown in:\n",
      "    https://scikit-learn.org/stable/modules/preprocessing.html\n",
      "Please also refer to the documentation for alternative solver options:\n",
      "    https://scikit-learn.org/stable/modules/linear_model.html#logistic-regression\n",
      "  n_iter_i = _check_optimize_result(\n"
     ]
    }
   ],
   "source": [
    "Q,beta = bf.get_selecting_qubo(X,y,y_type=\"binary\",measure=\"partial\")\n",
    "print(Q.shape,beta.shape)"
   ]
  },
  {
   "cell_type": "code",
   "execution_count": 17,
   "metadata": {},
   "outputs": [
    {
     "data": {
      "text/plain": [
       "array([ 3.46228158e-02,  1.62858706e-02,  5.66928221e-03,  9.78511079e-04,\n",
       "        3.18782339e-03,  2.36382211e-02,  3.49947924e-03,  2.42094935e-03,\n",
       "        6.10041627e-04,  3.25699054e-05,  2.46796320e-02,  1.83650146e-02,\n",
       "       -2.49382496e-05,  8.20385398e-03, -4.44511949e-05,  1.94510728e-03,\n",
       "       -7.40629122e-05,  2.80712867e-03,  4.06847515e-03,  3.32154758e-03])"
      ]
     },
     "execution_count": 17,
     "metadata": {},
     "output_type": "execute_result"
    }
   ],
   "source": [
    "beta"
   ]
  },
  {
   "cell_type": "code",
   "execution_count": 18,
   "metadata": {},
   "outputs": [
    {
     "data": {
      "text/plain": [
       "array([[ 1.00000000e+00, -1.96423100e-01, -8.08755149e-02,\n",
       "        -2.20202726e-01,  3.81816441e-01,  7.64660406e-02,\n",
       "         2.04022272e-01,  4.12147661e-01, -4.51696984e-02,\n",
       "        -3.03924543e-01,  1.84367962e-01, -7.24376691e-02,\n",
       "         3.18171250e-01, -4.59632993e-01,  2.99211353e-01,\n",
       "         5.24940676e-01,  7.47083594e-02,  8.72805144e-02,\n",
       "         2.75805099e-01,  6.66071347e-02],\n",
       "       [-1.96423100e-01,  1.00000000e+00,  7.27737356e-02,\n",
       "         1.68871846e-01,  6.21360639e-02, -3.05401939e-01,\n",
       "        -7.70264257e-02,  3.19387495e-02, -9.05013448e-02,\n",
       "        -3.45549298e-01, -8.50504544e-02,  9.74741027e-02,\n",
       "         5.34707933e-02,  3.22351334e-01,  3.04867623e-02,\n",
       "        -4.22831747e-01, -1.02619505e-02, -1.17600616e-01,\n",
       "        -2.73834213e-01, -5.12904318e-02],\n",
       "       [-8.08755149e-02,  7.27737356e-02,  1.00000000e+00,\n",
       "         2.80637963e-01,  1.09011155e-01, -3.24802825e-01,\n",
       "        -2.33682371e-01,  3.50787165e-01,  2.16797929e-01,\n",
       "        -2.60280528e-01,  5.90536721e-02,  2.77390801e-01,\n",
       "        -1.72624407e-01,  4.17845745e-01, -1.70902619e-01,\n",
       "        -1.73615693e-01,  2.35446265e-01, -4.46614807e-02,\n",
       "        -3.74234783e-01, -3.72201416e-01],\n",
       "       [-2.20202726e-01,  1.68871846e-01,  2.80637963e-01,\n",
       "         1.00000000e+00,  7.82800252e-02, -1.62890082e-01,\n",
       "        -4.95721827e-01,  2.22327634e-01, -7.27951109e-03,\n",
       "        -3.81103228e-03, -5.77373764e-01, -8.22224159e-02,\n",
       "        -4.44418621e-02,  2.98842402e-01, -2.47427125e-01,\n",
       "        -1.67092314e-01,  3.96523089e-01,  3.01255796e-01,\n",
       "         2.96359597e-02, -6.49114552e-02],\n",
       "       [ 3.81816441e-01,  6.21360639e-02,  1.09011155e-01,\n",
       "         7.82800252e-02,  1.00000000e+00, -6.18136663e-02,\n",
       "        -1.48732444e-01,  3.87390870e-01,  2.24823222e-01,\n",
       "        -1.86172162e-01,  9.27438274e-02,  1.36265187e-01,\n",
       "         7.85084068e-02,  5.41515617e-02,  4.49240660e-01,\n",
       "        -2.12059872e-01, -2.19719120e-01,  9.28663586e-02,\n",
       "        -9.58729395e-02, -5.49356916e-01],\n",
       "       [ 7.64660406e-02, -3.05401939e-01, -3.24802825e-01,\n",
       "        -1.62890082e-01, -6.18136663e-02,  1.00000000e+00,\n",
       "         1.55399174e-01,  7.66731136e-02, -1.08434359e-01,\n",
       "         7.30752429e-02, -1.29332489e-01,  1.88199719e-01,\n",
       "         3.05835868e-01, -7.02575696e-01, -1.27864336e-01,\n",
       "         3.60209880e-01,  1.23335308e-01,  3.00119913e-01,\n",
       "         2.51678205e-01,  2.22534630e-01],\n",
       "       [ 2.04022272e-01, -7.70264257e-02, -2.33682371e-01,\n",
       "        -4.95721827e-01, -1.48732444e-01,  1.55399174e-01,\n",
       "         1.00000000e+00, -1.19190426e-03,  5.89119639e-02,\n",
       "         6.49081159e-02,  3.28684330e-01,  1.70902652e-01,\n",
       "         1.11777013e-05, -3.14352773e-01, -2.10783645e-01,\n",
       "         2.94308468e-01,  1.22214828e-01,  1.27490942e-01,\n",
       "        -1.38852373e-01,  4.34403798e-01],\n",
       "       [ 4.12147661e-01,  3.19387495e-02,  3.50787165e-01,\n",
       "         2.22327634e-01,  3.87390870e-01,  7.66731136e-02,\n",
       "        -1.19190426e-03,  1.00000000e+00,  5.49764227e-01,\n",
       "        -1.27851424e-01, -7.44653745e-02,  3.15143507e-01,\n",
       "         2.05882176e-01,  1.45222006e-02, -5.75131178e-02,\n",
       "         7.01288632e-02,  8.75356704e-02,  4.61404157e-02,\n",
       "        -2.85537900e-01, -2.47821406e-01],\n",
       "       [-4.51696984e-02, -9.05013448e-02,  2.16797929e-01,\n",
       "        -7.27951109e-03,  2.24823222e-01, -1.08434359e-01,\n",
       "         5.89119639e-02,  5.49764227e-01,  1.00000000e+00,\n",
       "         7.02461299e-02,  1.72361084e-01,  2.77171469e-01,\n",
       "         4.04351299e-02,  7.32468578e-02, -9.93196017e-02,\n",
       "        -8.44575572e-02, -8.80950693e-02, -1.83045791e-01,\n",
       "        -4.20850200e-01, -6.32662471e-02],\n",
       "       [-3.03924543e-01, -3.45549298e-01, -2.60280528e-01,\n",
       "        -3.81103228e-03, -1.86172162e-01,  7.30752429e-02,\n",
       "         6.49081159e-02, -1.27851424e-01,  7.02461299e-02,\n",
       "         1.00000000e+00, -2.46522666e-01, -3.18904042e-01,\n",
       "        -9.52379907e-02,  1.78815165e-01, -8.14259842e-02,\n",
       "        -2.79176023e-01,  1.83901640e-02, -4.53233893e-02,\n",
       "         8.72715387e-04, -1.49408098e-01],\n",
       "       [ 1.84367962e-01, -8.50504544e-02,  5.90536721e-02,\n",
       "        -5.77373764e-01,  9.27438274e-02, -1.29332489e-01,\n",
       "         3.28684330e-01, -7.44653745e-02,  1.72361084e-01,\n",
       "        -2.46522666e-01,  1.00000000e+00,  2.64938527e-01,\n",
       "        -3.19922923e-01, -7.48874442e-02,  2.55792636e-01,\n",
       "         1.11560754e-01, -2.21577710e-01, -1.87470126e-01,\n",
       "        -3.08501413e-01,  8.73940707e-02],\n",
       "       [-7.24376691e-02,  9.74741027e-02,  2.77390801e-01,\n",
       "        -8.22224159e-02,  1.36265187e-01,  1.88199719e-01,\n",
       "         1.70902652e-01,  3.15143507e-01,  2.77171469e-01,\n",
       "        -3.18904042e-01,  2.64938527e-01,  1.00000000e+00,\n",
       "        -2.98291503e-01,  4.69823085e-02,  1.15553332e-02,\n",
       "         5.97291802e-02,  2.13039612e-01, -1.68141999e-01,\n",
       "        -3.43987641e-01, -7.21371048e-02],\n",
       "       [ 3.18171250e-01,  5.34707933e-02, -1.72624407e-01,\n",
       "        -4.44418621e-02,  7.85084068e-02,  3.05835868e-01,\n",
       "         1.11777013e-05,  2.05882176e-01,  4.04351299e-02,\n",
       "        -9.52379907e-02, -3.19922923e-01, -2.98291503e-01,\n",
       "         1.00000000e+00, -4.56917501e-01, -8.66531020e-02,\n",
       "         1.78006653e-01, -2.78383911e-01,  2.65339713e-01,\n",
       "         3.91743969e-01,  3.51006019e-02],\n",
       "       [-4.59632993e-01,  3.22351334e-01,  4.17845745e-01,\n",
       "         2.98842402e-01,  5.41515617e-02, -7.02575696e-01,\n",
       "        -3.14352773e-01,  1.45222006e-02,  7.32468578e-02,\n",
       "         1.78815165e-01, -7.48874442e-02,  4.69823085e-02,\n",
       "        -4.56917501e-01,  1.00000000e+00,  7.81188391e-02,\n",
       "        -6.30598219e-01,  2.21022229e-02, -4.89537072e-01,\n",
       "        -5.08731504e-01, -4.97704033e-01],\n",
       "       [ 2.99211353e-01,  3.04867623e-02, -1.70902619e-01,\n",
       "        -2.47427125e-01,  4.49240660e-01, -1.27864336e-01,\n",
       "        -2.10783645e-01, -5.75131178e-02, -9.93196017e-02,\n",
       "        -8.14259842e-02,  2.55792636e-01,  1.15553332e-02,\n",
       "        -8.66531020e-02,  7.81188391e-02,  1.00000000e+00,\n",
       "        -2.01269463e-01, -1.03616899e-01, -1.01259829e-01,\n",
       "        -2.39667698e-02, -5.25583263e-01],\n",
       "       [ 5.24940676e-01, -4.22831747e-01, -1.73615693e-01,\n",
       "        -1.67092314e-01, -2.12059872e-01,  3.60209880e-01,\n",
       "         2.94308468e-01,  7.01288632e-02, -8.44575572e-02,\n",
       "        -2.79176023e-01,  1.11560754e-01,  5.97291802e-02,\n",
       "         1.78006653e-01, -6.30598219e-01, -2.01269463e-01,\n",
       "         1.00000000e+00,  1.27794490e-01,  2.78692654e-01,\n",
       "         2.85922785e-01,  5.47489377e-01],\n",
       "       [ 7.47083594e-02, -1.02619505e-02,  2.35446265e-01,\n",
       "         3.96523089e-01, -2.19719120e-01,  1.23335308e-01,\n",
       "         1.22214828e-01,  8.75356704e-02, -8.80950693e-02,\n",
       "         1.83901640e-02, -2.21577710e-01,  2.13039612e-01,\n",
       "        -2.78383911e-01,  2.21022229e-02, -1.03616899e-01,\n",
       "         1.27794490e-01,  1.00000000e+00, -6.24897427e-02,\n",
       "         1.88470293e-02,  2.98179214e-01],\n",
       "       [ 8.72805144e-02, -1.17600616e-01, -4.46614807e-02,\n",
       "         3.01255796e-01,  9.28663586e-02,  3.00119913e-01,\n",
       "         1.27490942e-01,  4.61404157e-02, -1.83045791e-01,\n",
       "        -4.53233893e-02, -1.87470126e-01, -1.68141999e-01,\n",
       "         2.65339713e-01, -4.89537072e-01, -1.01259829e-01,\n",
       "         2.78692654e-01, -6.24897427e-02,  1.00000000e+00,\n",
       "         2.05231577e-01,  4.25856061e-02],\n",
       "       [ 2.75805099e-01, -2.73834213e-01, -3.74234783e-01,\n",
       "         2.96359597e-02, -9.58729395e-02,  2.51678205e-01,\n",
       "        -1.38852373e-01, -2.85537900e-01, -4.20850200e-01,\n",
       "         8.72715387e-04, -3.08501413e-01, -3.43987641e-01,\n",
       "         3.91743969e-01, -5.08731504e-01, -2.39667698e-02,\n",
       "         2.85922785e-01,  1.88470293e-02,  2.05231577e-01,\n",
       "         1.00000000e+00,  3.07019903e-01],\n",
       "       [ 6.66071347e-02, -5.12904318e-02, -3.72201416e-01,\n",
       "        -6.49114552e-02, -5.49356916e-01,  2.22534630e-01,\n",
       "         4.34403798e-01, -2.47821406e-01, -6.32662471e-02,\n",
       "        -1.49408098e-01,  8.73940707e-02, -7.21371048e-02,\n",
       "         3.51006019e-02, -4.97704033e-01, -5.25583263e-01,\n",
       "         5.47489377e-01,  2.98179214e-01,  4.25856061e-02,\n",
       "         3.07019903e-01,  1.00000000e+00]])"
      ]
     },
     "execution_count": 18,
     "metadata": {},
     "output_type": "execute_result"
    }
   ],
   "source": [
    "Q"
   ]
  },
  {
   "cell_type": "code",
   "execution_count": 118,
   "metadata": {},
   "outputs": [],
   "source": [
    "number_influentials =4\n",
    "number_features = 10\n",
    "number_samples = 1000\n",
    "covariance_parameter = 10\n",
    "epsilon = None\n",
    "lmbd = 0.05"
   ]
  },
  {
   "cell_type": "code",
   "execution_count": 119,
   "metadata": {},
   "outputs": [],
   "source": [
    "beta_coef = np.concatenate([np.random.normal(5,2,number_influentials),np.zeros(number_features-number_influentials)])\n",
    "if epsilon == None :\n",
    "    epsilon = number_influentials*5/3\n",
    "else :\n",
    "    epsilon = epsilon\n",
    "X,y = bf.generate_dependent_sample(number_samples,number_features,beta_coef,covariance_parameter=covariance_parameter,epsilon=epsilon)"
   ]
  },
  {
   "cell_type": "code",
   "execution_count": 193,
   "metadata": {},
   "outputs": [],
   "source": [
    "beta_coef = np.concatenate([np.array([4,3,2,2]),np.zeros(number_features-number_influentials)])\n",
    "epsilon = 1\n",
    "X,y = bf.generate_dependent_sample(number_samples,number_features,beta_coef,covariance_parameter=covariance_parameter,epsilon=epsilon)"
   ]
  },
  {
   "cell_type": "code",
   "execution_count": 194,
   "metadata": {},
   "outputs": [],
   "source": [
    "p = X.shape[1]\n",
    "mi_score = bf.mutual_information_matrix(X,y)\n",
    "corr_score = bf.get_full_r2(X,y)\n",
    "partial_cor_score = bf.get_partial_r2(X,y)"
   ]
  },
  {
   "cell_type": "code",
   "execution_count": 198,
   "metadata": {},
   "outputs": [
    {
     "data": {
      "text/plain": [
       "<AxesSubplot:xlabel='Variable', ylabel='Score'>"
      ]
     },
     "execution_count": 198,
     "metadata": {},
     "output_type": "execute_result"
    },
    {
     "data": {
      "image/png": "[encoded data removed]",
      "text/plain": [
       "<Figure size 640x480 with 1 Axes>"
      ]
     },
     "metadata": {},
     "output_type": "display_data"
    }
   ],
   "source": [
    "p = X.shape[1]\n",
    "plot_df_val = mi_score.T.tolist()+corr_score.tolist()+partial_cor_score.tolist()\n",
    "plot_df_var = [i for i in range(p)]+[i for i in range(p)]+[i for i in range(p)]\n",
    "plot_df_hue = [\"Mutual Information\" for i in range(p)] + [\"Correlation_Squared\" for i in range(p)] +[\"Partial R Squared\" for i in range(p)]\n",
    "plot_df = pd.DataFrame()\n",
    "plot_df[\"Measure\"] = plot_df_hue\n",
    "plot_df[\"Variable\"] = plot_df_var\n",
    "plot_df[\"Score\"] = plot_df_val\n",
    "sns.barplot(x= \"Variable\",y=\"Score\",hue = \"Measure\",data = plot_df)"
   ]
  },
  {
   "cell_type": "code",
   "execution_count": null,
   "metadata": {},
   "outputs": [],
   "source": []
  }
 ],
 "metadata": {
  "kernelspec": {
   "display_name": "Python 3.9.13 ('base')",
   "language": "python",
   "name": "python3"
  },
  "language_info": {
   "codemirror_mode": {
    "name": "ipython",
    "version": 3
   },
   "file_extension": ".py",
   "mimetype": "text/x-python",
   "name": "python",
   "nbconvert_exporter": "python",
   "pygments_lexer": "ipython3",
   "version": "3.9.13"
  },
  "orig_nbformat": 4,
  "vscode": {
   "interpreter": {
    "hash": "84fb82bab20c569585c4af9397c7309d3c8bcf8e92190772bb316fae4802aa46"
   }
  }
 },
 "nbformat": 4,
 "nbformat_minor": 2
}
