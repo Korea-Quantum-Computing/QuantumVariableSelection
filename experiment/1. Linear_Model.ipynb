{
 "cells": [
  {
   "cell_type": "code",
   "execution_count": 2,
   "metadata": {},
   "outputs": [],
   "source": [
    "import os\n",
    "### QAOA_realestate가 있는 폴더로 지정\n",
    "dir_path = \"/Users/minhyeong-gyu/Documents/GitHub/QuantumVariableSelection\"\n",
    "os.chdir(dir_path)\n",
    "import sys\n",
    "module_path = dir_path + \"/Module\"\n",
    "if module_path not in sys.path:\n",
    "    sys.path.append(module_path)\n",
    "\n",
    "from optimizer import optimizer as opt\n",
    "from optimizer import basefunctions as bf\n",
    "\n",
    "import numpy as np\n",
    "import pandas as pd\n",
    "import matplotlib.pyplot as plt \n",
    "from matplotlib import font_manager, rc\n",
    "# 윈도우 한글 폰트\n",
    "# font_path = \"C:/Windows/Fonts/NGULIM.TTF\"\n",
    "# font = font_manager.FontProperties(fname=font_path).get_name()\n",
    "# rc('font', family=font)\n",
    "\n",
    "# Mac 한글 폰트\n",
    "rc('font', family='AppleGothic')\n",
    "plt.rcParams['axes.unicode_minus'] = False\n",
    "\n",
    "import seaborn as sns\n",
    "from dwave.system import LeapHybridCQMSampler\n",
    "%matplotlib inline"
   ]
  },
  {
   "cell_type": "code",
   "execution_count": 5,
   "metadata": {},
   "outputs": [],
   "source": [
    "number_influentials =5\n",
    "number_features = 50\n",
    "number_samples = 1000\n",
    "covariance_parameter = 10\n",
    "epsilon = None\n",
    "lmbd = 0.05"
   ]
  },
  {
   "cell_type": "code",
   "execution_count": 6,
   "metadata": {},
   "outputs": [
    {
     "name": "stdout",
     "output_type": "stream",
     "text": [
      "64.44322726919921 2.956951733321904\n"
     ]
    }
   ],
   "source": [
    "beta_coef = np.concatenate([np.random.normal(5,2,number_influentials),np.zeros(number_features-number_influentials)])\n",
    "if epsilon == None :\n",
    "    epsilon = number_influentials*5/3\n",
    "else :\n",
    "    epsilon = epsilon\n",
    "X,y = bf.generate_dependent_sample(number_samples,number_features,beta_coef,covariance_parameter=covariance_parameter,epsilon=epsilon)\n",
    "lmbd = lmbd\n",
    "Q,beta = bf.get_selecting_qubo(X,y)\n",
    "print(sum(sum(Q)),sum(beta))"
   ]
  },
  {
   "cell_type": "code",
   "execution_count": 83,
   "metadata": {},
   "outputs": [
    {
     "name": "stderr",
     "output_type": "stream",
     "text": [
      "/Users/minhyeong-gyu/Documents/GitHub/QuantumVariableSelection/Module/optimizer/optimizer.py:92: RuntimeWarning: overflow encountered in exp\n",
      "  Q,beta = bf.get_selecting_qubo(X,y)\n",
      "/Users/minhyeong-gyu/Documents/GitHub/QuantumVariableSelection/Module/optimizer/basefunctions.py:90: RuntimeWarning: invalid value encountered in reciprocal\n",
      "  SSRF = y.T@(np.identity(n) - projection(X_pre))@y/np.cov(y)\n"
     ]
    }
   ],
   "source": [
    "ga_qubo = opt.GeneticAlgorithm(\"QUBO\",\n",
    "                n_gen=100, \n",
    "                n_sol=40, \n",
    "                n_par=20 )\n",
    "ga_qubo_result = ga_qubo.optimize(X,y,lmbd)\n",
    "sa_qubo = opt.SimulatedAnnealing(\"QUBO\")\n",
    "sa_qubo_result = sa_qubo.optimize(X,y,lmbd,reps=10)"
   ]
  },
  {
   "cell_type": "code",
   "execution_count": null,
   "metadata": {},
   "outputs": [],
   "source": []
  },
  {
   "cell_type": "code",
   "execution_count": 13,
   "metadata": {},
   "outputs": [
    {
     "name": "stderr",
     "output_type": "stream",
     "text": [
      "/Users/minhyeong-gyu/Documents/GitHub/QuantumVariableSelection/Module/optimizer/basefunctions.py:88: RuntimeWarning: invalid value encountered in reciprocal\n",
      "  result = np.array(SSRP)**(-1)*SSRF\n",
      "/Users/minhyeong-gyu/Documents/GitHub/QuantumVariableSelection/Module/optimizer/optimizer.py:91: RuntimeWarning: overflow encountered in exp\n",
      "  if np.random.rand(1) <= min(1, np.exp((bf.get_QB(theta_temp,Q,-1*beta,lamda)-bf.get_QB(theta_star,Q,-1*beta,lamda))/tau)):\n"
     ]
    }
   ],
   "source": [
    "ga_aic = opt.GeneticAlgorithm(mode = \"AIC\",\n",
    "                n_gen=100, \n",
    "                n_sol=40, \n",
    "                n_par=20)\n",
    "ga_aic_result = ga_qubo.optimize(X,y,lmbd)\n",
    "sa_aic = opt.SimulatedAnnealing(\"AIC\")\n",
    "sa_aic_result = sa_qubo.optimize(X,y,lmbd,reps=10)"
   ]
  },
  {
   "cell_type": "code",
   "execution_count": 14,
   "metadata": {},
   "outputs": [],
   "source": [
    "X_sa_qubo = X[:,sa_qubo_result.astype(bool)]\n",
    "X_ga_qubo = X[:,ga_qubo_result.astype(bool)]\n",
    "X_sa_aic = X[:,sa_aic_result.astype(bool)]\n",
    "X_ga_aic = X[:,ga_aic_result.astype(bool)]"
   ]
  },
  {
   "cell_type": "code",
   "execution_count": 18,
   "metadata": {},
   "outputs": [
    {
     "name": "stderr",
     "output_type": "stream",
     "text": [
      "/Users/minhyeong-gyu/Documents/GitHub/QuantumVariableSelection/Module/optimizer/basefunctions.py:88: RuntimeWarning: invalid value encountered in reciprocal\n",
      "  result = np.array(SSRP)**(-1)*SSRF\n"
     ]
    }
   ],
   "source": [
    "AIC_list = [\n",
    "    bf.get_aic(X,y),\n",
    "    bf.get_aic(X_sa_aic,y),\n",
    "    bf.get_aic(X_ga_aic,y),\n",
    "    bf.get_aic(X_sa_qubo,y),\n",
    "    bf.get_aic(X_ga_qubo,y)]\n",
    "\n",
    "QUBO_list = [\n",
    "    bf.get_QUBO(X,y,lmbd),\n",
    "    bf.get_QUBO(X_sa_aic,y,lmbd),\n",
    "    bf.get_QUBO(X_ga_aic,y,lmbd),\n",
    "    bf.get_QUBO(X_sa_qubo,y,lmbd),\n",
    "    bf.get_QUBO(X_ga_qubo,y,lmbd)]\n",
    "\n",
    "MSPE_list = [\n",
    "    bf.get_MSPE(X,y,0.8),\n",
    "    bf.get_MSPE(X_sa_aic,y,0.8),\n",
    "    bf.get_MSPE(X_ga_aic,y,0.8),\n",
    "    bf.get_MSPE(X_sa_qubo,y,0.8),\n",
    "    bf.get_MSPE(X_ga_qubo,y,0.8)]\n",
    "\n",
    "R2_list = [\n",
    "    bf.get_prediction_R2(X,y,0.8),\n",
    "    bf.get_prediction_R2(X_sa_aic,y,0.8),\n",
    "    bf.get_prediction_R2(X_ga_aic,y,0.8),    \n",
    "    bf.get_prediction_R2(X_sa_qubo,y,0.8),\n",
    "    bf.get_prediction_R2(X_ga_qubo,y,0.8)]\n",
    "\n",
    "CN_list = [\n",
    "    bf.get_CN(X),\n",
    "    bf.get_CN(X_sa_aic),\n",
    "    bf.get_CN(X_ga_aic),\n",
    "    bf.get_CN(X_sa_qubo),\n",
    "    bf.get_CN(X_ga_qubo)]\n",
    "\n",
    "\n",
    "result_table = pd.DataFrame([AIC_list,QUBO_list,MSPE_list,R2_list,CN_list])\n",
    "result_table.columns = [\"Original\",\"SA_AIC\",\"GA_AIC\",\"SA_QUBO\",\"GA_QUBO\"]\n",
    "result_table.index = [\"AIC_list\",\"QUBO_list\",\"MSPE\",\"R2\",\"CN\"]"
   ]
  },
  {
   "cell_type": "code",
   "execution_count": 19,
   "metadata": {},
   "outputs": [
    {
     "data": {
      "text/html": [
       "<div>\n",
       "<style scoped>\n",
       "    .dataframe tbody tr th:only-of-type {\n",
       "        vertical-align: middle;\n",
       "    }\n",
       "\n",
       "    .dataframe tbody tr th {\n",
       "        vertical-align: top;\n",
       "    }\n",
       "\n",
       "    .dataframe thead th {\n",
       "        text-align: right;\n",
       "    }\n",
       "</style>\n",
       "<table border=\"1\" class=\"dataframe\">\n",
       "  <thead>\n",
       "    <tr style=\"text-align: right;\">\n",
       "      <th></th>\n",
       "      <th>Original</th>\n",
       "      <th>SA_AIC</th>\n",
       "      <th>GA_AIC</th>\n",
       "      <th>SA_QUBO</th>\n",
       "      <th>GA_QUBO</th>\n",
       "    </tr>\n",
       "  </thead>\n",
       "  <tbody>\n",
       "    <tr>\n",
       "      <th>AIC_list</th>\n",
       "      <td>6895.977379</td>\n",
       "      <td>8162.261767</td>\n",
       "      <td>8372.115699</td>\n",
       "      <td>8172.906549</td>\n",
       "      <td>8297.854468</td>\n",
       "    </tr>\n",
       "    <tr>\n",
       "      <th>QUBO_list</th>\n",
       "      <td>5.715941</td>\n",
       "      <td>1.914223</td>\n",
       "      <td>2.370875</td>\n",
       "      <td>1.741336</td>\n",
       "      <td>2.387763</td>\n",
       "    </tr>\n",
       "    <tr>\n",
       "      <th>MSPE</th>\n",
       "      <td>2.388663</td>\n",
       "      <td>4.651134</td>\n",
       "      <td>4.770355</td>\n",
       "      <td>4.289099</td>\n",
       "      <td>4.331387</td>\n",
       "    </tr>\n",
       "    <tr>\n",
       "      <th>R2</th>\n",
       "      <td>0.627703</td>\n",
       "      <td>0.406248</td>\n",
       "      <td>0.261583</td>\n",
       "      <td>0.394170</td>\n",
       "      <td>0.268922</td>\n",
       "    </tr>\n",
       "    <tr>\n",
       "      <th>CN</th>\n",
       "      <td>25.695256</td>\n",
       "      <td>3.561128</td>\n",
       "      <td>4.062565</td>\n",
       "      <td>2.556361</td>\n",
       "      <td>4.318683</td>\n",
       "    </tr>\n",
       "  </tbody>\n",
       "</table>\n",
       "</div>"
      ],
      "text/plain": [
       "              Original       SA_AIC       GA_AIC      SA_QUBO      GA_QUBO\n",
       "AIC_list   6895.977379  8162.261767  8372.115699  8172.906549  8297.854468\n",
       "QUBO_list     5.715941     1.914223     2.370875     1.741336     2.387763\n",
       "MSPE          2.388663     4.651134     4.770355     4.289099     4.331387\n",
       "R2            0.627703     0.406248     0.261583     0.394170     0.268922\n",
       "CN           25.695256     3.561128     4.062565     2.556361     4.318683"
      ]
     },
     "execution_count": 19,
     "metadata": {},
     "output_type": "execute_result"
    }
   ],
   "source": [
    "result_table"
   ]
  },
  {
   "cell_type": "code",
   "execution_count": 44,
   "metadata": {},
   "outputs": [
    {
     "name": "stderr",
     "output_type": "stream",
     "text": [
      "/Users/minhyeong-gyu/Documents/GitHub/QuantumVariableSelection/Module/optimizer/basefunctions.py:88: RuntimeWarning: invalid value encountered in reciprocal\n",
      "  result = np.array(SSRP)**(-1)*SSRF\n",
      "/Users/minhyeong-gyu/Documents/GitHub/QuantumVariableSelection/Module/optimizer/optimizer.py:91: RuntimeWarning: overflow encountered in exp\n",
      "  if np.random.rand(1) <= min(1, np.exp((bf.get_QB(theta_temp,Q,-1*beta,lamda)-bf.get_QB(theta_star,Q,-1*beta,lamda))/tau)):\n",
      "/Users/minhyeong-gyu/Documents/GitHub/QuantumVariableSelection/Module/optimizer/optimizer.py:91: RuntimeWarning: overflow encountered in exp\n",
      "  if np.random.rand(1) <= min(1, np.exp((bf.get_QB(theta_temp,Q,-1*beta,lamda)-bf.get_QB(theta_star,Q,-1*beta,lamda))/tau)):\n",
      "/Users/minhyeong-gyu/Documents/GitHub/QuantumVariableSelection/Module/optimizer/basefunctions.py:88: RuntimeWarning: invalid value encountered in reciprocal\n",
      "  result = np.array(SSRP)**(-1)*SSRF\n",
      "/Users/minhyeong-gyu/Documents/GitHub/QuantumVariableSelection/Module/optimizer/basefunctions.py:88: RuntimeWarning: invalid value encountered in reciprocal\n",
      "  result = np.array(SSRP)**(-1)*SSRF\n",
      "/Users/minhyeong-gyu/Documents/GitHub/QuantumVariableSelection/Module/optimizer/optimizer.py:91: RuntimeWarning: overflow encountered in exp\n",
      "  if np.random.rand(1) <= min(1, np.exp((bf.get_QB(theta_temp,Q,-1*beta,lamda)-bf.get_QB(theta_star,Q,-1*beta,lamda))/tau)):\n",
      "/Users/minhyeong-gyu/Documents/GitHub/QuantumVariableSelection/Module/optimizer/basefunctions.py:88: RuntimeWarning: invalid value encountered in reciprocal\n",
      "  result = np.array(SSRP)**(-1)*SSRF\n",
      "/Users/minhyeong-gyu/Documents/GitHub/QuantumVariableSelection/Module/optimizer/optimizer.py:91: RuntimeWarning: overflow encountered in exp\n",
      "  if np.random.rand(1) <= min(1, np.exp((bf.get_QB(theta_temp,Q,-1*beta,lamda)-bf.get_QB(theta_star,Q,-1*beta,lamda))/tau)):\n",
      "/Users/minhyeong-gyu/Documents/GitHub/QuantumVariableSelection/Module/optimizer/basefunctions.py:88: RuntimeWarning: invalid value encountered in reciprocal\n",
      "  result = np.array(SSRP)**(-1)*SSRF\n"
     ]
    }
   ],
   "source": [
    "AIC_list_total =[]\n",
    "QUBO_list_total = []\n",
    "MSPE_list_total = []\n",
    "R2_list_total = []\n",
    "CN_list_total = []\n",
    "\n",
    "for ite in range(2):\n",
    "    beta_coef = np.concatenate([np.random.normal(5,2,20),np.zeros(80)])\n",
    "    X,y = bf.generate_dependent_sample(1000,100,beta_coef,epsilon=30)\n",
    "    lmbd = 0.05\n",
    "\n",
    "    ga_qubo = opt.GeneticAlgorithm(\"QUBO\")\n",
    "    ga_qubo_result = ga_qubo.optimize(X,y,lmbd)\n",
    "    sa_qubo = opt.SimulatedAnnealing(\"QUBO\")\n",
    "    sa_qubo_result = sa_qubo.optimize(X,y,lmbd,reps=10)\n",
    "    ga_aic = opt.GeneticAlgorithm(mode = \"AIC\")\n",
    "    ga_aic_result = ga_qubo.optimize(X,y,lmbd)\n",
    "    sa_aic = opt.SimulatedAnnealing(\"AIC\")\n",
    "    sa_aic_result = sa_qubo.optimize(X,y,lmbd,reps=10)\n",
    "\n",
    "    X_sa_qubo = X[:,sa_qubo_result.astype(bool)]\n",
    "    X_ga_qubo = X[:,ga_qubo_result.astype(bool)]\n",
    "    X_sa_aic = X[:,sa_aic_result.astype(bool)]\n",
    "    X_ga_aic = X[:,ga_aic_result.astype(bool)]\n",
    "\n",
    "    AIC_list = [\n",
    "        bf.get_aic(X,y),\n",
    "        bf.get_aic(X_sa_aic,y),\n",
    "        bf.get_aic(X_ga_aic,y),\n",
    "        bf.get_aic(X_sa_qubo,y),\n",
    "        bf.get_aic(X_ga_qubo,y)]\n",
    "\n",
    "    QUBO_list = [\n",
    "        bf.get_QUBO(X,y,lmbd),\n",
    "        bf.get_QUBO(X_sa_aic,y,lmbd),\n",
    "        bf.get_QUBO(X_ga_aic,y,lmbd),\n",
    "        bf.get_QUBO(X_sa_qubo,y,lmbd),\n",
    "        bf.get_QUBO(X_ga_qubo,y,lmbd)]\n",
    "\n",
    "    MSPE_list = [\n",
    "        bf.get_MSPE(X,y,0.8),\n",
    "        bf.get_MSPE(X_sa_aic,y,0.8),\n",
    "        bf.get_MSPE(X_ga_aic,y,0.8),\n",
    "        bf.get_MSPE(X_sa_qubo,y,0.8),\n",
    "        bf.get_MSPE(X_ga_qubo,y,0.8)]\n",
    "\n",
    "    R2_list = [\n",
    "        bf.get_prediction_R2(X,y,0.8),\n",
    "        bf.get_prediction_R2(X_sa_aic,y,0.8),\n",
    "        bf.get_prediction_R2(X_ga_aic,y,0.8),    \n",
    "        bf.get_prediction_R2(X_sa_qubo,y,0.8),\n",
    "        bf.get_prediction_R2(X_ga_qubo,y,0.8)]\n",
    "\n",
    "    CN_list = [\n",
    "        bf.get_CN(X),\n",
    "        bf.get_CN(X_sa_aic),\n",
    "        bf.get_CN(X_ga_aic),\n",
    "        bf.get_CN(X_sa_qubo),\n",
    "        bf.get_CN(X_ga_qubo)]\n",
    "\n",
    "    AIC_list_total += [AIC_list]\n",
    "    QUBO_list_total += [QUBO_list]\n",
    "    MSPE_list_total += [MSPE_list]\n",
    "    R2_list_total += [R2_list]\n",
    "    CN_list_total += [CN_list]\n",
    "\n",
    "target = AIC_list_total\n",
    "AIC_result = pd.DataFrame(target).apply(lambda x: str(round(np.mean(x),2)))+\"(\"+pd.DataFrame(target).apply(lambda x: str(round(np.std(x),2)))+\")\"\n",
    "target = QUBO_list_total\n",
    "QUBO_result = pd.DataFrame(target).apply(lambda x: str(round(np.mean(x),2)))+\"(\"+pd.DataFrame(target).apply(lambda x: str(round(np.std(x),2)))+\")\"\n",
    "target = MSPE_list_total\n",
    "MSPE_result = pd.DataFrame(target).apply(lambda x: str(round(np.mean(x),2)))+\"(\"+pd.DataFrame(target).apply(lambda x: str(round(np.std(x),2)))+\")\"\n",
    "target = R2_list_total\n",
    "R2_result = pd.DataFrame(target).apply(lambda x: str(round(np.mean(x),2)))+\"(\"+pd.DataFrame(target).apply(lambda x: str(round(np.std(x),2)))+\")\"\n",
    "target = CN_list_total\n",
    "CN_result = pd.DataFrame(target).apply(lambda x: str(round(np.mean(x),2)))+\"(\"+pd.DataFrame(target).apply(lambda x: str(round(np.std(x),2)))+\")\"\n",
    "\n",
    "\n",
    "result_table = pd.DataFrame([AIC_result,QUBO_result,MSPE_result,R2_result,CN_result])\n",
    "result_table.columns = [\"Original\",\"SA_AIC\",\"GA_AIC\",\"SA_QUBO\",\"GA_QUBO\"]\n",
    "result_table.index = [\"AIC_list\",\"QUBO_list\",\"MSPE\",\"R2\",\"CN\"]\n",
    "\n"
   ]
  },
  {
   "cell_type": "code",
   "execution_count": 53,
   "metadata": {},
   "outputs": [],
   "source": [
    "from datetime import datetime\n",
    "\n",
    "now = datetime.now()\n",
    "current_time = now.strftime(\"%H:%M:%S\")"
   ]
  },
  {
   "cell_type": "code",
   "execution_count": 68,
   "metadata": {},
   "outputs": [],
   "source": [
    "import random"
   ]
  },
  {
   "cell_type": "code",
   "execution_count": 80,
   "metadata": {},
   "outputs": [
    {
     "data": {
      "text/plain": [
       "'22351'"
      ]
     },
     "execution_count": 80,
     "metadata": {},
     "output_type": "execute_result"
    }
   ],
   "source": [
    "random_index = str(random.randrange(0,99999)).zfill(5)"
   ]
  },
  {
   "cell_type": "code",
   "execution_count": 45,
   "metadata": {},
   "outputs": [
    {
     "data": {
      "text/html": [
       "<div>\n",
       "<style scoped>\n",
       "    .dataframe tbody tr th:only-of-type {\n",
       "        vertical-align: middle;\n",
       "    }\n",
       "\n",
       "    .dataframe tbody tr th {\n",
       "        vertical-align: top;\n",
       "    }\n",
       "\n",
       "    .dataframe thead th {\n",
       "        text-align: right;\n",
       "    }\n",
       "</style>\n",
       "<table border=\"1\" class=\"dataframe\">\n",
       "  <thead>\n",
       "    <tr style=\"text-align: right;\">\n",
       "      <th></th>\n",
       "      <th>Original</th>\n",
       "      <th>SA_AIC</th>\n",
       "      <th>GA_AIC</th>\n",
       "      <th>SA_QUBO</th>\n",
       "      <th>GA_QUBO</th>\n",
       "    </tr>\n",
       "  </thead>\n",
       "  <tbody>\n",
       "    <tr>\n",
       "      <th>AIC_list</th>\n",
       "      <td>6872.08(14.77)</td>\n",
       "      <td>7784.07(595.19)</td>\n",
       "      <td>7894.9(38.8)</td>\n",
       "      <td>7823.93(627.73)</td>\n",
       "      <td>7846.85(30.43)</td>\n",
       "    </tr>\n",
       "    <tr>\n",
       "      <th>QUBO_list</th>\n",
       "      <td>5.92(0.74)</td>\n",
       "      <td>3.1(1.13)</td>\n",
       "      <td>3.8(0.45)</td>\n",
       "      <td>3.12(1.22)</td>\n",
       "      <td>3.79(0.37)</td>\n",
       "    </tr>\n",
       "    <tr>\n",
       "      <th>MSPE</th>\n",
       "      <td>2.24(0.07)</td>\n",
       "      <td>3.68(1.01)</td>\n",
       "      <td>3.74(0.09)</td>\n",
       "      <td>3.68(1.24)</td>\n",
       "      <td>3.75(0.17)</td>\n",
       "    </tr>\n",
       "    <tr>\n",
       "      <th>R2</th>\n",
       "      <td>0.71(0.03)</td>\n",
       "      <td>0.56(0.1)</td>\n",
       "      <td>0.5(0.03)</td>\n",
       "      <td>0.52(0.11)</td>\n",
       "      <td>0.52(0.02)</td>\n",
       "    </tr>\n",
       "    <tr>\n",
       "      <th>CN</th>\n",
       "      <td>27.29(0.97)</td>\n",
       "      <td>2.66(0.59)</td>\n",
       "      <td>5.41(0.28)</td>\n",
       "      <td>2.74(0.19)</td>\n",
       "      <td>5.26(0.13)</td>\n",
       "    </tr>\n",
       "  </tbody>\n",
       "</table>\n",
       "</div>"
      ],
      "text/plain": [
       "                 Original           SA_AIC        GA_AIC          SA_QUBO  \\\n",
       "AIC_list   6872.08(14.77)  7784.07(595.19)  7894.9(38.8)  7823.93(627.73)   \n",
       "QUBO_list      5.92(0.74)        3.1(1.13)     3.8(0.45)       3.12(1.22)   \n",
       "MSPE           2.24(0.07)       3.68(1.01)    3.74(0.09)       3.68(1.24)   \n",
       "R2             0.71(0.03)        0.56(0.1)     0.5(0.03)       0.52(0.11)   \n",
       "CN            27.29(0.97)       2.66(0.59)    5.41(0.28)       2.74(0.19)   \n",
       "\n",
       "                  GA_QUBO  \n",
       "AIC_list   7846.85(30.43)  \n",
       "QUBO_list      3.79(0.37)  \n",
       "MSPE           3.75(0.17)  \n",
       "R2             0.52(0.02)  \n",
       "CN             5.26(0.13)  "
      ]
     },
     "execution_count": 45,
     "metadata": {},
     "output_type": "execute_result"
    }
   ],
   "source": [
    "result_table.to_csv(\"result/simulation/linear_samples\"+current_time+\".csv\")"
   ]
  },
  {
   "cell_type": "code",
   "execution_count": 7,
   "metadata": {},
   "outputs": [],
   "source": [
    "from os import listdir\n",
    "from os.path import isfile, join\n",
    "filepath = \"result/simulation/\"\n",
    "onlyfiles = [f for f in listdir(filepath) if isfile(join(filepath, f))]"
   ]
  },
  {
   "cell_type": "code",
   "execution_count": 22,
   "metadata": {},
   "outputs": [],
   "source": [
    "test_index = [True if onlyfiles[i][:4]==\"test\" else False for i in range(len(onlyfiles))]\n",
    "dict_list = np.array(onlyfiles)[test_index]"
   ]
  },
  {
   "cell_type": "code",
   "execution_count": 55,
   "metadata": {},
   "outputs": [
    {
     "data": {
      "text/plain": [
       "'66570'"
      ]
     },
     "execution_count": 55,
     "metadata": {},
     "output_type": "execute_result"
    }
   ],
   "source": [
    "dict_list[0][13:18]"
   ]
  },
  {
   "cell_type": "code",
   "execution_count": 57,
   "metadata": {},
   "outputs": [],
   "source": [
    "import json\n",
    "  \n",
    "arg_list = []\n",
    "for dict_name in dict_list:\n",
    "    with open(\"result/simulation/\"+dict_name,\"r\") as f:\n",
    "        dict_temp = json.loads(f.read())\n",
    "        dict_temp[\"index\"] = dict_name[13:18]\n",
    "        arg_list +=[dict_temp]"
   ]
  },
  {
   "cell_type": "code",
   "execution_count": 58,
   "metadata": {},
   "outputs": [],
   "source": [
    "key_names = arg_list[0].keys()\n",
    "arg_df = pd.DataFrame(np.ones((0,len(key_names))))\n",
    "arg_df.columns = key_names"
   ]
  },
  {
   "cell_type": "code",
   "execution_count": 81,
   "metadata": {},
   "outputs": [],
   "source": [
    "arg_df = []\n",
    "for i in range(len(arg_list)):\n",
    "    arg_df += [list(arg_list[i].values())]\n",
    "arg_df = pd.DataFrame(arg_df)\n",
    "key_names = arg_list[0].keys()\n",
    "arg_df.columns = key_names\n",
    "arg_df = arg_df[[arg_df.columns[-1]] + list(arg_df.columns[:-1])]\n",
    "arg_df.to_csv(\"result/simulation/experient_list.csv\")"
   ]
  },
  {
   "cell_type": "code",
   "execution_count": null,
   "metadata": {},
   "outputs": [],
   "source": []
  },
  {
   "cell_type": "code",
   "execution_count": null,
   "metadata": {},
   "outputs": [],
   "source": [
    "def get_mutual_information(x1,x2,bin=10):\n",
    "    x1_bandwidth = (max(x1)-min(x1))/bin\n",
    "    [for i in range(bin)]\n"
   ]
  },
  {
   "cell_type": "code",
   "execution_count": 17,
   "metadata": {},
   "outputs": [],
   "source": [
    "x1 = X[:,0]\n",
    "x2 = X[:,1]\n",
    "bin=10"
   ]
  },
  {
   "cell_type": "code",
   "execution_count": 26,
   "metadata": {},
   "outputs": [
    {
     "data": {
      "text/plain": [
       "(array([ 57, 350, 467, 121,   5]),\n",
       " array([-28.59573766, -15.57013107,  -2.54452447,  10.48108213,\n",
       "         23.50668872,  36.53229532]))"
      ]
     },
     "execution_count": 26,
     "metadata": {},
     "output_type": "execute_result"
    }
   ],
   "source": [
    "np.histogram(x1,bins=5)"
   ]
  },
  {
   "cell_type": "code",
   "execution_count": 50,
   "metadata": {},
   "outputs": [],
   "source": [
    "def mutual_information(x1,x2,bins=10):\n",
    "    n = len(x1)\n",
    "    pr1 = np.histogram(x1,bins=bins)[0]/n\n",
    "    pr2 = np.histogram(x2,bins=bins)[0]/n\n",
    "    joint = np.histogram2d(x1,x2,bins=bins)[0]/n+10**(-8)\n",
    "    joint_indep = np.outer(pr1,pr2)\n",
    "    mi = 0\n",
    "    for i in range(bins) :\n",
    "        for j in range(bins) :\n",
    "            mi += joint[i,j]*np.log(joint[i,j]/joint_indep[i,j])\n",
    "    return mi"
   ]
  },
  {
   "cell_type": "code",
   "execution_count": null,
   "metadata": {},
   "outputs": [],
   "source": []
  },
  {
   "cell_type": "code",
   "execution_count": 58,
   "metadata": {},
   "outputs": [],
   "source": [
    "def mutual_information_matrix(X,bins=10):\n",
    "    X = np.asarray(X)\n",
    "    p = X.shape[1]\n",
    "    mi_matrix = np.ones((p,p))\n",
    "    for i in range(p):\n",
    "        for j in range(p):\n",
    "            mi_matrix[i,j] = mutual_information(X[:,i],X[:,j],bins) \n",
    "    return(mi_matrix)"
   ]
  },
  {
   "cell_type": "code",
   "execution_count": 59,
   "metadata": {},
   "outputs": [
    {
     "data": {
      "text/plain": [
       "array([[1.8092331 , 0.04252479, 0.04463842, ..., 0.08323547, 0.03836245,\n",
       "        0.04074531],\n",
       "       [0.04252479, 1.97530809, 0.06238701, ..., 0.04090179, 0.05250045,\n",
       "        0.05368845],\n",
       "       [0.04463842, 0.06238701, 1.9269605 , ..., 0.03983653, 0.05496395,\n",
       "        0.04756872],\n",
       "       ...,\n",
       "       [0.08323547, 0.04090179, 0.03983653, ..., 1.95226719, 0.0474652 ,\n",
       "        0.02941122],\n",
       "       [0.03836245, 0.05250045, 0.05496395, ..., 0.0474652 , 1.77175878,\n",
       "        0.04130612],\n",
       "       [0.04074531, 0.05368845, 0.04756872, ..., 0.02941122, 0.04130612,\n",
       "        1.79645079]])"
      ]
     },
     "execution_count": 59,
     "metadata": {},
     "output_type": "execute_result"
    }
   ],
   "source": [
    "mutual_information_matrix(X)"
   ]
  },
  {
   "cell_type": "code",
   "execution_count": null,
   "metadata": {},
   "outputs": [],
   "source": []
  }
 ],
 "metadata": {
  "kernelspec": {
   "display_name": "Python 3.9.13 ('base')",
   "language": "python",
   "name": "python3"
  },
  "language_info": {
   "codemirror_mode": {
    "name": "ipython",
    "version": 3
   },
   "file_extension": ".py",
   "mimetype": "text/x-python",
   "name": "python",
   "nbconvert_exporter": "python",
   "pygments_lexer": "ipython3",
   "version": "3.9.13"
  },
  "orig_nbformat": 4,
  "vscode": {
   "interpreter": {
    "hash": "84fb82bab20c569585c4af9397c7309d3c8bcf8e92190772bb316fae4802aa46"
   }
  }
 },
 "nbformat": 4,
 "nbformat_minor": 2
}
