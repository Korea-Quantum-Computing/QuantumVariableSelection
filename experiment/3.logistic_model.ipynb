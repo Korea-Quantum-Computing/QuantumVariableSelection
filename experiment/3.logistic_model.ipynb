{
 "cells": [
  {
   "cell_type": "code",
   "execution_count": 1,
   "metadata": {},
   "outputs": [],
   "source": [
    "import os\n",
    "### QAOA_realestate가 있는 폴더로 지정\n",
    "dir_path = \"/Users/minhyeong-gyu/Documents/GitHub/QuantumVariableSelection\"\n",
    "os.chdir(dir_path)\n",
    "import sys\n",
    "module_path = dir_path + \"/Module\"\n",
    "if module_path not in sys.path:\n",
    "    sys.path.append(module_path)\n",
    "\n",
    "from optimizer import optimizer as opt\n",
    "from optimizer import basefunctions as bf\n",
    "\n",
    "import numpy as np\n",
    "import pandas as pd\n",
    "import matplotlib.pyplot as plt \n",
    "from matplotlib import font_manager, rc\n",
    "# 윈도우 한글 폰트\n",
    "# font_path = \"C:/Windows/Fonts/NGULIM.TTF\"\n",
    "# font = font_manager.FontProperties(fname=font_path).get_name()\n",
    "# rc('font', family=font)\n",
    "\n",
    "# Mac 한글 폰트\n",
    "rc('font', family='AppleGothic')\n",
    "plt.rcParams['axes.unicode_minus'] = False\n",
    "\n",
    "import seaborn as sns\n",
    "from dwave.system import LeapHybridCQMSampler\n",
    "%matplotlib inline"
   ]
  },
  {
   "cell_type": "code",
   "execution_count": 2,
   "metadata": {},
   "outputs": [],
   "source": [
    "n_samples=500\n",
    "n_features=10\n",
    "beta_coef =[4,4,4,4]\n",
    "epsilon = 0\n",
    "covariance_parameter=1\n",
    "X,y = bf.generate_dependent_sample_logistic(n_samples=n_samples, n_features=n_features, beta_coef =beta_coef,epsilon=epsilon,covariance_parameter=covariance_parameter)"
   ]
  },
  {
   "cell_type": "code",
   "execution_count": 3,
   "metadata": {},
   "outputs": [],
   "source": [
    "from sklearn.linear_model import LogisticRegression"
   ]
  },
  {
   "cell_type": "code",
   "execution_count": 4,
   "metadata": {},
   "outputs": [],
   "source": [
    "clf = LogisticRegression().fit(X, y)\n",
    "logtheta = clf.predict_log_proba(X)\n",
    "loglikelihood = y.T@logtheta[:,0] + (1-y).T@logtheta[:,1]"
   ]
  },
  {
   "cell_type": "code",
   "execution_count": 5,
   "metadata": {},
   "outputs": [
    {
     "data": {
      "text/plain": [
       "<AxesSubplot:>"
      ]
     },
     "execution_count": 5,
     "metadata": {},
     "output_type": "execute_result"
    },
    {
     "data": {
      "image/png": "[encoded data removed]",
      "text/plain": [
       "<Figure size 640x480 with 6 Axes>"
      ]
     },
     "metadata": {},
     "output_type": "display_data"
    }
   ],
   "source": [
    "fig,axes = plt.subplots(3,2)\n",
    "p = X.shape[1]\n",
    "var_index = [i for i in range(p)]\n",
    "sns.barplot(ax = axes[0,0],x = var_index,y = bf.get_r_likelihood(X,y,mode=\"partial\",type=\"mcf\"))\n",
    "sns.barplot(ax = axes[0,1],x = var_index,y = bf.get_r_likelihood(X,y,mode=\"full\",type=\"mcf\"))\n",
    "sns.barplot(ax = axes[1,0],x = var_index,y = bf.get_r_likelihood(X,y,mode=\"partial\",type=\"cox\"))\n",
    "sns.barplot(ax = axes[1,1],x = var_index,y = bf.get_r_likelihood(X,y,mode=\"full\",type=\"cox\"))\n",
    "sns.barplot(ax = axes[2,0],x = var_index,y = bf.get_r_likelihood(X,y,mode=\"partial\",type=\"tjur\"))\n",
    "sns.barplot(ax = axes[2,1],x = var_index,y = bf.get_r_likelihood(X,y,mode=\"full\",type=\"tjur\"))"
   ]
  },
  {
   "cell_type": "code",
   "execution_count": 6,
   "metadata": {},
   "outputs": [],
   "source": [
    "\n",
    "lmbd = 0.05\n",
    "number_samples = 500\n",
    "number_features = 5\n",
    "number_influentials = 2\n",
    "beta_coef = np.concatenate([np.random.normal(5,2,number_influentials),np.zeros(number_features-number_influentials)])\n",
    "X,y = bf.generate_dependent_sample_logistic(number_samples,number_features,beta_coef,covariance_parameter=30,epsilon=0)\n",
    "y_type = \"binary\"\n"
   ]
  },
  {
   "cell_type": "code",
   "execution_count": 7,
   "metadata": {},
   "outputs": [],
   "source": [
    "sa_qubo = opt.SimulatedAnnealing(\"QUBO\",y_type=y_type)\n",
    "sa_qubo_result = sa_qubo.optimize(X,y,lmbd,reps=10)"
   ]
  },
  {
   "cell_type": "code",
   "execution_count": 8,
   "metadata": {},
   "outputs": [
    {
     "data": {
      "text/plain": [
       "array([1., 1., 0., 0., 0.])"
      ]
     },
     "execution_count": 8,
     "metadata": {},
     "output_type": "execute_result"
    }
   ],
   "source": [
    "sa_qubo_result"
   ]
  },
  {
   "cell_type": "code",
   "execution_count": 9,
   "metadata": {},
   "outputs": [],
   "source": [
    "ga_qubo = opt.GeneticAlgorithm(mode = \"QUBO\",y_type=y_type)\n",
    "ga_qubo_result = ga_qubo.optimize(X,y,lmbd)"
   ]
  },
  {
   "cell_type": "code",
   "execution_count": 10,
   "metadata": {},
   "outputs": [
    {
     "data": {
      "text/plain": [
       "array([1, 1, 0, 0, 0])"
      ]
     },
     "execution_count": 10,
     "metadata": {},
     "output_type": "execute_result"
    }
   ],
   "source": [
    "ga_qubo_result "
   ]
  },
  {
   "cell_type": "code",
   "execution_count": 11,
   "metadata": {},
   "outputs": [],
   "source": [
    "X_ga_qubo = X[:,test_index.astype(bool)]"
   ]
  },
  {
   "cell_type": "code",
   "execution_count": 12,
   "metadata": {},
   "outputs": [
    {
     "data": {
      "text/plain": [
       "False"
      ]
     },
     "execution_count": 12,
     "metadata": {},
     "output_type": "execute_result"
    }
   ],
   "source": [
    "X_ga_qubo.shape[1] == 0"
   ]
  },
  {
   "cell_type": "code",
   "execution_count": 18,
   "metadata": {},
   "outputs": [
    {
     "data": {
      "text/plain": [
       "0.600867588668738"
      ]
     },
     "execution_count": 18,
     "metadata": {},
     "output_type": "execute_result"
    }
   ],
   "source": [
    "test_index = np.array([0,0,0,0,0])\n",
    "X_ga_qubo = X[:,test_index.astype(bool)]\n",
    "bf.get_QUBO(X_ga_qubo,y,0.05,\"binary\")"
   ]
  },
  {
   "cell_type": "code",
   "execution_count": 19,
   "metadata": {},
   "outputs": [],
   "source": [
    "test_index = np.array([0,0,0,0,0])\n",
    "X_ga_qubo = X[:,test_index.astype(bool)]\n"
   ]
  },
  {
   "cell_type": "code",
   "execution_count": 24,
   "metadata": {},
   "outputs": [
    {
     "data": {
      "text/plain": [
       "True"
      ]
     },
     "execution_count": 24,
     "metadata": {},
     "output_type": "execute_result"
    }
   ],
   "source": [
    "X_ga_qubo.shape[1] == 0 "
   ]
  },
  {
   "cell_type": "code",
   "execution_count": 45,
   "metadata": {},
   "outputs": [
    {
     "ename": "ValueError",
     "evalue": "matmul: Input operand 1 has a mismatch in its core dimension 0, with gufunc signature (n?,k),(k,m?)->(n?,m?) (size 5 is different from 10)",
     "output_type": "error",
     "traceback": [
      "\u001b[0;31m---------------------------------------------------------------------------\u001b[0m",
      "\u001b[0;31mValueError\u001b[0m                                Traceback (most recent call last)",
      "\u001b[0;32m/var/folders/r7/4kckzfxd78df0ln3wt2tjs180000gn/T/ipykernel_24934/4243721682.py\u001b[0m in \u001b[0;36m<module>\u001b[0;34m\u001b[0m\n\u001b[1;32m     41\u001b[0m         \u001b[0mAIC_list\u001b[0m \u001b[0;34m+=\u001b[0m \u001b[0;34m[\u001b[0m\u001b[0mbf\u001b[0m\u001b[0;34m.\u001b[0m\u001b[0mget_aic\u001b[0m\u001b[0;34m(\u001b[0m\u001b[0mdataset\u001b[0m\u001b[0;34m,\u001b[0m\u001b[0my\u001b[0m\u001b[0;34m,\u001b[0m\u001b[0my_type\u001b[0m\u001b[0;34m=\u001b[0m\u001b[0my_type\u001b[0m\u001b[0;34m)\u001b[0m\u001b[0;34m]\u001b[0m\u001b[0;34m\u001b[0m\u001b[0;34m\u001b[0m\u001b[0m\n\u001b[1;32m     42\u001b[0m         \u001b[0mQ\u001b[0m\u001b[0;34m,\u001b[0m\u001b[0mbeta\u001b[0m \u001b[0;34m=\u001b[0m \u001b[0mbf\u001b[0m\u001b[0;34m.\u001b[0m\u001b[0mget_selecting_qubo\u001b[0m\u001b[0;34m(\u001b[0m\u001b[0mX\u001b[0m\u001b[0;34m,\u001b[0m\u001b[0my\u001b[0m\u001b[0;34m,\u001b[0m\u001b[0my_type\u001b[0m\u001b[0;34m=\u001b[0m\u001b[0my_type\u001b[0m\u001b[0;34m)\u001b[0m\u001b[0;34m\u001b[0m\u001b[0;34m\u001b[0m\u001b[0m\n\u001b[0;32m---> 43\u001b[0;31m         \u001b[0mQUBO_list\u001b[0m \u001b[0;34m+=\u001b[0m \u001b[0;34m[\u001b[0m\u001b[0mbf\u001b[0m\u001b[0;34m.\u001b[0m\u001b[0mget_QB\u001b[0m\u001b[0;34m(\u001b[0m\u001b[0mtheta_temp\u001b[0m\u001b[0;34m,\u001b[0m\u001b[0mQ\u001b[0m\u001b[0;34m,\u001b[0m\u001b[0mbeta\u001b[0m\u001b[0;34m,\u001b[0m\u001b[0mlmbd\u001b[0m\u001b[0;34m)\u001b[0m\u001b[0;34m]\u001b[0m\u001b[0;34m\u001b[0m\u001b[0;34m\u001b[0m\u001b[0m\n\u001b[0m\u001b[1;32m     44\u001b[0m         \u001b[0mMSPE_list\u001b[0m \u001b[0;34m+=\u001b[0m \u001b[0;34m[\u001b[0m\u001b[0mbf\u001b[0m\u001b[0;34m.\u001b[0m\u001b[0mget_accuracy\u001b[0m\u001b[0;34m(\u001b[0m\u001b[0mdataset\u001b[0m\u001b[0;34m,\u001b[0m\u001b[0my\u001b[0m\u001b[0;34m,\u001b[0m\u001b[0;36m0.8\u001b[0m\u001b[0;34m)\u001b[0m\u001b[0;34m]\u001b[0m\u001b[0;34m\u001b[0m\u001b[0;34m\u001b[0m\u001b[0m\n\u001b[1;32m     45\u001b[0m         \u001b[0mR2_list\u001b[0m \u001b[0;34m+=\u001b[0m \u001b[0;34m[\u001b[0m\u001b[0mbf\u001b[0m\u001b[0;34m.\u001b[0m\u001b[0mget_prediction_R2\u001b[0m\u001b[0;34m(\u001b[0m\u001b[0mdataset\u001b[0m\u001b[0;34m,\u001b[0m\u001b[0my\u001b[0m\u001b[0;34m,\u001b[0m\u001b[0;36m0.8\u001b[0m\u001b[0;34m,\u001b[0m\u001b[0my_type\u001b[0m \u001b[0;34m=\u001b[0m \u001b[0my_type\u001b[0m\u001b[0;34m)\u001b[0m\u001b[0;34m]\u001b[0m\u001b[0;34m\u001b[0m\u001b[0;34m\u001b[0m\u001b[0m\n",
      "\u001b[0;32m~/Documents/GitHub/QuantumVariableSelection/Module/optimizer/basefunctions.py\u001b[0m in \u001b[0;36mget_QB\u001b[0;34m(theta_temp, Q, beta, lmbd)\u001b[0m\n\u001b[1;32m     32\u001b[0m     \u001b[0mtheta_temp\u001b[0m \u001b[0;34m=\u001b[0m \u001b[0mnp\u001b[0m\u001b[0;34m.\u001b[0m\u001b[0masarray\u001b[0m\u001b[0;34m(\u001b[0m\u001b[0mtheta_temp\u001b[0m\u001b[0;34m)\u001b[0m\u001b[0;34m\u001b[0m\u001b[0;34m\u001b[0m\u001b[0m\n\u001b[1;32m     33\u001b[0m     \u001b[0mbeta\u001b[0m \u001b[0;34m=\u001b[0m \u001b[0mnp\u001b[0m\u001b[0;34m.\u001b[0m\u001b[0masarray\u001b[0m\u001b[0;34m(\u001b[0m\u001b[0mbeta\u001b[0m\u001b[0;34m)\u001b[0m\u001b[0;34m\u001b[0m\u001b[0;34m\u001b[0m\u001b[0m\n\u001b[0;32m---> 34\u001b[0;31m     \u001b[0mres\u001b[0m \u001b[0;34m=\u001b[0m \u001b[0mlmbd\u001b[0m\u001b[0;34m*\u001b[0m\u001b[0mtheta_temp\u001b[0m\u001b[0;34m.\u001b[0m\u001b[0mT\u001b[0m \u001b[0;34m@\u001b[0m \u001b[0mQ\u001b[0m \u001b[0;34m@\u001b[0m \u001b[0mtheta_temp\u001b[0m\u001b[0;34m+\u001b[0m\u001b[0;34m(\u001b[0m\u001b[0;36m1\u001b[0m\u001b[0;34m-\u001b[0m\u001b[0mlmbd\u001b[0m\u001b[0;34m)\u001b[0m\u001b[0;34m*\u001b[0m \u001b[0mbeta\u001b[0m\u001b[0;34m.\u001b[0m\u001b[0mT\u001b[0m \u001b[0;34m@\u001b[0m \u001b[0mtheta_temp\u001b[0m\u001b[0;34m\u001b[0m\u001b[0;34m\u001b[0m\u001b[0m\n\u001b[0m\u001b[1;32m     35\u001b[0m     \u001b[0;32mreturn\u001b[0m \u001b[0mres\u001b[0m\u001b[0;34m\u001b[0m\u001b[0;34m\u001b[0m\u001b[0m\n\u001b[1;32m     36\u001b[0m \u001b[0;34m\u001b[0m\u001b[0m\n",
      "\u001b[0;31mValueError\u001b[0m: matmul: Input operand 1 has a mismatch in its core dimension 0, with gufunc signature (n?,k),(k,m?)->(n?,m?) (size 5 is different from 10)"
     ]
    }
   ],
   "source": [
    "AIC_list_total =[]\n",
    "QUBO_list_total = []\n",
    "MSPE_list_total = []\n",
    "R2_list_total = []\n",
    "CN_list_total = []\n",
    "lmbd = 0.05\n",
    "number_samples = 500\n",
    "number_features = 5\n",
    "number_influentials = 2\n",
    "number_of_test = 2\n",
    "for ite in range(number_of_test):\n",
    "    beta_coef = np.concatenate([np.random.normal(5,2,number_influentials),np.zeros(number_features-number_influentials)])\n",
    "    X,y = bf.generate_dependent_sample_logistic(number_samples,number_features,beta_coef,covariance_parameter=30,epsilon=0)\n",
    "    y_type = \"binary\"\n",
    "\n",
    "\n",
    "    sa_aic = opt.SimulatedAnnealing(mode = \"AIC\",y_type=y_type)\n",
    "    sa_aic_result = sa_aic.optimize(X,y,lmbd,reps=10)\n",
    "    ga_aic = opt.GeneticAlgorithm(mode = \"AIC\",y_type=y_type)\n",
    "    ga_aic_result = ga_aic.optimize(X,y,lmbd)\n",
    "    sa_qubo = opt.SimulatedAnnealing(mode = \"QUBO\",y_type=y_type)\n",
    "    sa_qubo_result = sa_qubo.optimize(X,y,lmbd,reps=10)\n",
    "    ga_qubo = opt.GeneticAlgorithm(mode = \"QUBO\",y_type=y_type)\n",
    "    ga_qubo_result = ga_qubo.optimize(X,y,lmbd)\n",
    "\n",
    "    X_sa_qubo = X[:,sa_qubo_result.astype(bool)]\n",
    "    X_ga_qubo = X[:,ga_qubo_result.astype(bool)]\n",
    "    X_sa_aic = X[:,sa_aic_result.astype(bool)]\n",
    "    X_ga_aic = X[:,ga_aic_result.astype(bool)]\n",
    "    datasets = [X,X_sa_aic,X_ga_aic,X_sa_qubo,X_ga_qubo]\n",
    "    thetasets = [[1 for i in range(p)],sa_aic_result,ga_aic_result,sa_qubo_result,ga_qubo_result]\n",
    "\n",
    "    AIC_list = []\n",
    "    QUBO_list = []\n",
    "    MSPE_list = []\n",
    "    R2_list = []\n",
    "    CN_list = []\n",
    "    for i in range(number_features) :\n",
    "        dataset = datasets[i]\n",
    "        theta_temp = thetasets[i]\n",
    "        AIC_list += [bf.get_aic(dataset,y,y_type=y_type)]\n",
    "        Q,beta = bf.get_selecting_qubo(X,y,y_type=y_type)\n",
    "        QUBO_list += [bf.get_QB(theta_temp,Q,beta,lmbd)]\n",
    "        MSPE_list += [bf.get_accuracy(dataset,y,0.8)]\n",
    "        R2_list += [bf.get_prediction_R2(dataset,y,0.8,y_type = y_type)]\n",
    "        CN_list += [bf.get_CN(dataset)]\n",
    "\n",
    "    AIC_list_total += [AIC_list]\n",
    "    QUBO_list_total += [QUBO_list]\n",
    "    MSPE_list_total += [MSPE_list]\n",
    "    R2_list_total += [R2_list]\n",
    "    CN_list_total += [CN_list]\n",
    "    \n",
    "target = AIC_list_total\n",
    "AIC_result = pd.DataFrame(target).apply(lambda x: str(round(np.mean(x),2)))+\"(\"+pd.DataFrame(target).apply(lambda x: str(round(np.std(x),2)))+\")\"\n",
    "target = QUBO_list_total\n",
    "QUBO_result = pd.DataFrame(target).apply(lambda x: str(round(np.mean(x),2)))+\"(\"+pd.DataFrame(target).apply(lambda x: str(round(np.std(x),2)))+\")\"\n",
    "target = MSPE_list_total\n",
    "MSPE_result = pd.DataFrame(target).apply(lambda x: str(round(np.mean(x),2)))+\"(\"+pd.DataFrame(target).apply(lambda x: str(round(np.std(x),2)))+\")\"\n",
    "target = R2_list_total\n",
    "R2_result = pd.DataFrame(target).apply(lambda x: str(round(np.mean(x),2)))+\"(\"+pd.DataFrame(target).apply(lambda x: str(round(np.std(x),2)))+\")\"\n",
    "target = CN_list_total\n",
    "CN_result = pd.DataFrame(target).apply(lambda x: str(round(np.mean(x),2)))+\"(\"+pd.DataFrame(target).apply(lambda x: str(round(np.std(x),2)))+\")\"\n",
    "\n",
    "\n",
    "result_table = pd.DataFrame([AIC_result,QUBO_result,MSPE_result,R2_result,CN_result])\n",
    "result_table.columns = [\"Original\",\"SA_AIC\",\"GA_AIC\",\"SA_QUBO\",\"GA_QUBO\"]\n",
    "result_table.index = [\"AIC_list\",\"QUBO_list\",\"Accuracy\",\"R2\",\"CN\"]\n",
    "\n",
    "\n",
    "random_index = str(random.randrange(0,99999)).zfill(5)\n",
    "\n",
    "result_table.to_csv(\"result/simulation_logistic/linear_samples_with_intercept\"+random_index+\".csv\")\n",
    "\n",
    "print(result_table)"
   ]
  },
  {
   "cell_type": "code",
   "execution_count": null,
   "metadata": {},
   "outputs": [],
   "source": []
  }
 ],
 "metadata": {
  "kernelspec": {
   "display_name": "Python 3.9.13 ('base')",
   "language": "python",
   "name": "python3"
  },
  "language_info": {
   "codemirror_mode": {
    "name": "ipython",
    "version": 3
   },
   "file_extension": ".py",
   "mimetype": "text/x-python",
   "name": "python",
   "nbconvert_exporter": "python",
   "pygments_lexer": "ipython3",
   "version": "3.9.13"
  },
  "orig_nbformat": 4,
  "vscode": {
   "interpreter": {
    "hash": "84fb82bab20c569585c4af9397c7309d3c8bcf8e92190772bb316fae4802aa46"
   }
  }
 },
 "nbformat": 4,
 "nbformat_minor": 2
}
