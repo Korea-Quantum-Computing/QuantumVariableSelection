{
 "cells": [
  {
   "cell_type": "code",
   "execution_count": 1,
   "metadata": {},
   "outputs": [],
   "source": [
    "import os\n",
    "### QAOA_realestate가 있는 폴더로 지정\n",
    "dir_path = \"/Users/minhyeong-gyu/Documents/GitHub/QuantumVariableSelection\"\n",
    "os.chdir(dir_path)\n",
    "import sys\n",
    "module_path = dir_path + \"/Module\"\n",
    "if module_path not in sys.path:\n",
    "    sys.path.append(module_path)\n",
    "\n",
    "from optimizer import optimizer as opt\n",
    "from optimizer import basefunctions as bf\n",
    "\n",
    "import numpy as np\n",
    "import pandas as pd\n",
    "import matplotlib.pyplot as plt \n",
    "from matplotlib import font_manager, rc\n",
    "# 윈도우 한글 폰트\n",
    "# font_path = \"C:/Windows/Fonts/NGULIM.TTF\"\n",
    "# font = font_manager.FontProperties(fname=font_path).get_name()\n",
    "# rc('font', family=font)\n",
    "\n",
    "# Mac 한글 폰트\n",
    "rc('font', family='AppleGothic')\n",
    "plt.rcParams['axes.unicode_minus'] = False\n",
    "\n",
    "import seaborn as sns\n",
    "from dwave.system import LeapHybridCQMSampler\n",
    "%matplotlib inline"
   ]
  },
  {
   "cell_type": "code",
   "execution_count": 2,
   "metadata": {},
   "outputs": [],
   "source": [
    "n_samples=500\n",
    "n_features=10\n",
    "beta_coef =[4,4,4,4]\n",
    "epsilon = 0\n",
    "covariance_parameter=1\n",
    "X,y = bf.generate_dependent_sample_logistic(n_samples=n_samples, n_features=n_features, beta_coef =beta_coef,epsilon=epsilon,covariance_parameter=covariance_parameter)"
   ]
  },
  {
   "cell_type": "code",
   "execution_count": 3,
   "metadata": {},
   "outputs": [],
   "source": [
    "from sklearn.linear_model import LogisticRegression"
   ]
  },
  {
   "cell_type": "code",
   "execution_count": 4,
   "metadata": {},
   "outputs": [
    {
     "data": {
      "text/plain": [
       "<AxesSubplot:>"
      ]
     },
     "execution_count": 4,
     "metadata": {},
     "output_type": "execute_result"
    },
    {
     "data": {
      "image/png": "[encoded data removed]",
      "text/plain": [
       "<Figure size 640x480 with 6 Axes>"
      ]
     },
     "metadata": {},
     "output_type": "display_data"
    }
   ],
   "source": [
    "fig,axes = plt.subplots(3,2)\n",
    "p = X.shape[1]\n",
    "var_index = [i for i in range(p)]\n",
    "sns.barplot(ax = axes[0,0],x = var_index,y = bf.get_r_likelihood(X,y,mode=\"partial\",type=\"mcf\"))\n",
    "sns.barplot(ax = axes[0,1],x = var_index,y = bf.get_r_likelihood(X,y,mode=\"full\",type=\"mcf\"))\n",
    "sns.barplot(ax = axes[1,0],x = var_index,y = bf.get_r_likelihood(X,y,mode=\"partial\",type=\"cox\"))\n",
    "sns.barplot(ax = axes[1,1],x = var_index,y = bf.get_r_likelihood(X,y,mode=\"full\",type=\"cox\"))\n",
    "sns.barplot(ax = axes[2,0],x = var_index,y = bf.get_r_likelihood(X,y,mode=\"partial\",type=\"tjur\"))\n",
    "sns.barplot(ax = axes[2,1],x = var_index,y = bf.get_r_likelihood(X,y,mode=\"full\",type=\"tjur\"))"
   ]
  },
  {
   "cell_type": "code",
   "execution_count": 10,
   "metadata": {},
   "outputs": [],
   "source": [
    "import random"
   ]
  },
  {
   "cell_type": "code",
   "execution_count": 11,
   "metadata": {},
   "outputs": [
    {
     "name": "stderr",
     "output_type": "stream",
     "text": [
      "/Users/minhyeong-gyu/opt/anaconda3/lib/python3.9/site-packages/sklearn/utils/validation.py:993: DataConversionWarning: A column-vector y was passed when a 1d array was expected. Please change the shape of y to (n_samples, ), for example using ravel().\n",
      "  y = column_or_1d(y, warn=True)\n",
      "/Users/minhyeong-gyu/opt/anaconda3/lib/python3.9/site-packages/sklearn/utils/validation.py:993: DataConversionWarning: A column-vector y was passed when a 1d array was expected. Please change the shape of y to (n_samples, ), for example using ravel().\n",
      "  y = column_or_1d(y, warn=True)\n",
      "/Users/minhyeong-gyu/opt/anaconda3/lib/python3.9/site-packages/sklearn/utils/validation.py:993: DataConversionWarning: A column-vector y was passed when a 1d array was expected. Please change the shape of y to (n_samples, ), for example using ravel().\n",
      "  y = column_or_1d(y, warn=True)\n",
      "/Users/minhyeong-gyu/opt/anaconda3/lib/python3.9/site-packages/sklearn/utils/validation.py:993: DataConversionWarning: A column-vector y was passed when a 1d array was expected. Please change the shape of y to (n_samples, ), for example using ravel().\n",
      "  y = column_or_1d(y, warn=True)\n",
      "/Users/minhyeong-gyu/opt/anaconda3/lib/python3.9/site-packages/sklearn/utils/validation.py:993: DataConversionWarning: A column-vector y was passed when a 1d array was expected. Please change the shape of y to (n_samples, ), for example using ravel().\n",
      "  y = column_or_1d(y, warn=True)\n",
      "/Users/minhyeong-gyu/opt/anaconda3/lib/python3.9/site-packages/sklearn/utils/validation.py:993: DataConversionWarning: A column-vector y was passed when a 1d array was expected. Please change the shape of y to (n_samples, ), for example using ravel().\n",
      "  y = column_or_1d(y, warn=True)\n",
      "/Users/minhyeong-gyu/opt/anaconda3/lib/python3.9/site-packages/sklearn/utils/validation.py:993: DataConversionWarning: A column-vector y was passed when a 1d array was expected. Please change the shape of y to (n_samples, ), for example using ravel().\n",
      "  y = column_or_1d(y, warn=True)\n",
      "/Users/minhyeong-gyu/opt/anaconda3/lib/python3.9/site-packages/sklearn/utils/validation.py:993: DataConversionWarning: A column-vector y was passed when a 1d array was expected. Please change the shape of y to (n_samples, ), for example using ravel().\n",
      "  y = column_or_1d(y, warn=True)\n",
      "/Users/minhyeong-gyu/opt/anaconda3/lib/python3.9/site-packages/sklearn/utils/validation.py:993: DataConversionWarning: A column-vector y was passed when a 1d array was expected. Please change the shape of y to (n_samples, ), for example using ravel().\n",
      "  y = column_or_1d(y, warn=True)\n",
      "/Users/minhyeong-gyu/opt/anaconda3/lib/python3.9/site-packages/sklearn/utils/validation.py:993: DataConversionWarning: A column-vector y was passed when a 1d array was expected. Please change the shape of y to (n_samples, ), for example using ravel().\n",
      "  y = column_or_1d(y, warn=True)\n",
      "/Users/minhyeong-gyu/opt/anaconda3/lib/python3.9/site-packages/sklearn/utils/validation.py:993: DataConversionWarning: A column-vector y was passed when a 1d array was expected. Please change the shape of y to (n_samples, ), for example using ravel().\n",
      "  y = column_or_1d(y, warn=True)\n",
      "/Users/minhyeong-gyu/opt/anaconda3/lib/python3.9/site-packages/sklearn/utils/validation.py:993: DataConversionWarning: A column-vector y was passed when a 1d array was expected. Please change the shape of y to (n_samples, ), for example using ravel().\n",
      "  y = column_or_1d(y, warn=True)\n",
      "/Users/minhyeong-gyu/opt/anaconda3/lib/python3.9/site-packages/sklearn/utils/validation.py:993: DataConversionWarning: A column-vector y was passed when a 1d array was expected. Please change the shape of y to (n_samples, ), for example using ravel().\n",
      "  y = column_or_1d(y, warn=True)\n",
      "/Users/minhyeong-gyu/opt/anaconda3/lib/python3.9/site-packages/sklearn/utils/validation.py:993: DataConversionWarning: A column-vector y was passed when a 1d array was expected. Please change the shape of y to (n_samples, ), for example using ravel().\n",
      "  y = column_or_1d(y, warn=True)\n",
      "/Users/minhyeong-gyu/opt/anaconda3/lib/python3.9/site-packages/sklearn/utils/validation.py:993: DataConversionWarning: A column-vector y was passed when a 1d array was expected. Please change the shape of y to (n_samples, ), for example using ravel().\n",
      "  y = column_or_1d(y, warn=True)\n"
     ]
    },
    {
     "name": "stdout",
     "output_type": "stream",
     "text": [
      "                   Original            SA_AIC            GA_AIC  \\\n",
      "AIC_list   -1728.93(230.07)  -1727.18(230.19)  -1727.99(231.01)   \n",
      "QUBO_list         0.6(0.23)        0.57(0.23)        0.59(0.25)   \n",
      "Accuracy         0.78(0.02)        0.81(0.02)        0.76(0.06)   \n",
      "R2               0.33(0.06)        0.34(0.06)        0.33(0.09)   \n",
      "CN              18.95(7.82)         3.7(0.86)        7.85(3.28)   \n",
      "\n",
      "                   SA_QUBO          GA_QUBO  \n",
      "AIC_list   -1686.01(233.6)  -1686.01(233.6)  \n",
      "QUBO_list        0.4(0.22)        0.4(0.22)  \n",
      "Accuracy        0.78(0.03)       0.78(0.07)  \n",
      "R2              0.33(0.08)        0.3(0.06)  \n",
      "CN              5.02(3.96)       5.02(3.96)  \n"
     ]
    },
    {
     "name": "stderr",
     "output_type": "stream",
     "text": [
      "/Users/minhyeong-gyu/opt/anaconda3/lib/python3.9/site-packages/sklearn/utils/validation.py:993: DataConversionWarning: A column-vector y was passed when a 1d array was expected. Please change the shape of y to (n_samples, ), for example using ravel().\n",
      "  y = column_or_1d(y, warn=True)\n",
      "/Users/minhyeong-gyu/opt/anaconda3/lib/python3.9/site-packages/sklearn/utils/validation.py:993: DataConversionWarning: A column-vector y was passed when a 1d array was expected. Please change the shape of y to (n_samples, ), for example using ravel().\n",
      "  y = column_or_1d(y, warn=True)\n",
      "/Users/minhyeong-gyu/opt/anaconda3/lib/python3.9/site-packages/sklearn/utils/validation.py:993: DataConversionWarning: A column-vector y was passed when a 1d array was expected. Please change the shape of y to (n_samples, ), for example using ravel().\n",
      "  y = column_or_1d(y, warn=True)\n",
      "/Users/minhyeong-gyu/opt/anaconda3/lib/python3.9/site-packages/sklearn/utils/validation.py:993: DataConversionWarning: A column-vector y was passed when a 1d array was expected. Please change the shape of y to (n_samples, ), for example using ravel().\n",
      "  y = column_or_1d(y, warn=True)\n",
      "/Users/minhyeong-gyu/opt/anaconda3/lib/python3.9/site-packages/sklearn/utils/validation.py:993: DataConversionWarning: A column-vector y was passed when a 1d array was expected. Please change the shape of y to (n_samples, ), for example using ravel().\n",
      "  y = column_or_1d(y, warn=True)\n",
      "/Users/minhyeong-gyu/opt/anaconda3/lib/python3.9/site-packages/sklearn/utils/validation.py:993: DataConversionWarning: A column-vector y was passed when a 1d array was expected. Please change the shape of y to (n_samples, ), for example using ravel().\n",
      "  y = column_or_1d(y, warn=True)\n",
      "/Users/minhyeong-gyu/opt/anaconda3/lib/python3.9/site-packages/sklearn/utils/validation.py:993: DataConversionWarning: A column-vector y was passed when a 1d array was expected. Please change the shape of y to (n_samples, ), for example using ravel().\n",
      "  y = column_or_1d(y, warn=True)\n",
      "/Users/minhyeong-gyu/opt/anaconda3/lib/python3.9/site-packages/sklearn/utils/validation.py:993: DataConversionWarning: A column-vector y was passed when a 1d array was expected. Please change the shape of y to (n_samples, ), for example using ravel().\n",
      "  y = column_or_1d(y, warn=True)\n",
      "/Users/minhyeong-gyu/opt/anaconda3/lib/python3.9/site-packages/sklearn/utils/validation.py:993: DataConversionWarning: A column-vector y was passed when a 1d array was expected. Please change the shape of y to (n_samples, ), for example using ravel().\n",
      "  y = column_or_1d(y, warn=True)\n",
      "/Users/minhyeong-gyu/opt/anaconda3/lib/python3.9/site-packages/sklearn/utils/validation.py:993: DataConversionWarning: A column-vector y was passed when a 1d array was expected. Please change the shape of y to (n_samples, ), for example using ravel().\n",
      "  y = column_or_1d(y, warn=True)\n",
      "/Users/minhyeong-gyu/opt/anaconda3/lib/python3.9/site-packages/sklearn/utils/validation.py:993: DataConversionWarning: A column-vector y was passed when a 1d array was expected. Please change the shape of y to (n_samples, ), for example using ravel().\n",
      "  y = column_or_1d(y, warn=True)\n",
      "/Users/minhyeong-gyu/opt/anaconda3/lib/python3.9/site-packages/sklearn/utils/validation.py:993: DataConversionWarning: A column-vector y was passed when a 1d array was expected. Please change the shape of y to (n_samples, ), for example using ravel().\n",
      "  y = column_or_1d(y, warn=True)\n",
      "/Users/minhyeong-gyu/opt/anaconda3/lib/python3.9/site-packages/sklearn/utils/validation.py:993: DataConversionWarning: A column-vector y was passed when a 1d array was expected. Please change the shape of y to (n_samples, ), for example using ravel().\n",
      "  y = column_or_1d(y, warn=True)\n",
      "/Users/minhyeong-gyu/opt/anaconda3/lib/python3.9/site-packages/sklearn/utils/validation.py:993: DataConversionWarning: A column-vector y was passed when a 1d array was expected. Please change the shape of y to (n_samples, ), for example using ravel().\n",
      "  y = column_or_1d(y, warn=True)\n",
      "/Users/minhyeong-gyu/opt/anaconda3/lib/python3.9/site-packages/sklearn/utils/validation.py:993: DataConversionWarning: A column-vector y was passed when a 1d array was expected. Please change the shape of y to (n_samples, ), for example using ravel().\n",
      "  y = column_or_1d(y, warn=True)\n"
     ]
    }
   ],
   "source": [
    "AIC_list_total =[]\n",
    "QUBO_list_total = []\n",
    "MSPE_list_total = []\n",
    "R2_list_total = []\n",
    "CN_list_total = []\n",
    "lmbd = 0.05\n",
    "number_samples = 500\n",
    "number_features = 5\n",
    "number_influentials = 2\n",
    "number_of_test = 2\n",
    "for ite in range(number_of_test):\n",
    "    beta_coef = np.concatenate([np.random.normal(5,2,number_influentials),np.zeros(number_features-number_influentials)])\n",
    "    X,y = bf.generate_dependent_sample_logistic(number_samples,number_features,beta_coef,covariance_parameter=30,epsilon=0)\n",
    "    y_type = \"binary\"\n",
    "\n",
    "\n",
    "    sa_aic = opt.SimulatedAnnealing(mode = \"AIC\",y_type=y_type)\n",
    "    sa_aic_result = sa_aic.optimize(X,y,lmbd,reps=10)\n",
    "    ga_aic = opt.GeneticAlgorithm(mode = \"AIC\",y_type=y_type)\n",
    "    ga_aic_result = ga_aic.optimize(X,y,lmbd)\n",
    "    sa_qubo = opt.SimulatedAnnealing(mode = \"QUBO\",y_type=y_type)\n",
    "    sa_qubo_result = sa_qubo.optimize(X,y,lmbd,reps=10)\n",
    "    ga_qubo = opt.GeneticAlgorithm(mode = \"QUBO\",y_type=y_type)\n",
    "    ga_qubo_result = ga_qubo.optimize(X,y,lmbd)\n",
    "\n",
    "    X_sa_qubo = X[:,sa_qubo_result.astype(bool)]\n",
    "    X_ga_qubo = X[:,ga_qubo_result.astype(bool)]\n",
    "    X_sa_aic = X[:,sa_aic_result.astype(bool)]\n",
    "    X_ga_aic = X[:,ga_aic_result.astype(bool)]\n",
    "    datasets = [X,X_sa_aic,X_ga_aic,X_sa_qubo,X_ga_qubo]\n",
    "    thetasets = [[1 for i in range(number_features)],sa_aic_result,ga_aic_result,sa_qubo_result,ga_qubo_result]\n",
    "\n",
    "    AIC_list = []\n",
    "    QUBO_list = []\n",
    "    MSPE_list = []\n",
    "    R2_list = []\n",
    "    CN_list = []\n",
    "    for i in range(number_features) :\n",
    "        dataset = datasets[i]\n",
    "        theta_temp = thetasets[i]\n",
    "        AIC_list += [bf.get_aic(dataset,y,y_type=y_type)]\n",
    "        Q,beta = bf.get_selecting_qubo(X,y,y_type=y_type)\n",
    "        QUBO_list += [bf.get_QB(theta_temp,Q,beta,lmbd)]\n",
    "        MSPE_list += [bf.get_accuracy(dataset,y,0.8)]\n",
    "        R2_list += [bf.get_prediction_R2(dataset,y,0.8,y_type = y_type)]\n",
    "        CN_list += [bf.get_CN(dataset)]\n",
    "\n",
    "    AIC_list_total += [AIC_list]\n",
    "    QUBO_list_total += [QUBO_list]\n",
    "    MSPE_list_total += [MSPE_list]\n",
    "    R2_list_total += [R2_list]\n",
    "    CN_list_total += [CN_list]\n",
    "    \n",
    "target = AIC_list_total\n",
    "AIC_result = pd.DataFrame(target).apply(lambda x: str(round(np.mean(x),2)))+\"(\"+pd.DataFrame(target).apply(lambda x: str(round(np.std(x),2)))+\")\"\n",
    "target = QUBO_list_total\n",
    "QUBO_result = pd.DataFrame(target).apply(lambda x: str(round(np.mean(x),2)))+\"(\"+pd.DataFrame(target).apply(lambda x: str(round(np.std(x),2)))+\")\"\n",
    "target = MSPE_list_total\n",
    "MSPE_result = pd.DataFrame(target).apply(lambda x: str(round(np.mean(x),2)))+\"(\"+pd.DataFrame(target).apply(lambda x: str(round(np.std(x),2)))+\")\"\n",
    "target = R2_list_total\n",
    "R2_result = pd.DataFrame(target).apply(lambda x: str(round(np.mean(x),2)))+\"(\"+pd.DataFrame(target).apply(lambda x: str(round(np.std(x),2)))+\")\"\n",
    "target = CN_list_total\n",
    "CN_result = pd.DataFrame(target).apply(lambda x: str(round(np.mean(x),2)))+\"(\"+pd.DataFrame(target).apply(lambda x: str(round(np.std(x),2)))+\")\"\n",
    "\n",
    "\n",
    "result_table = pd.DataFrame([AIC_result,QUBO_result,MSPE_result,R2_result,CN_result])\n",
    "result_table.columns = [\"Original\",\"SA_AIC\",\"GA_AIC\",\"SA_QUBO\",\"GA_QUBO\"]\n",
    "result_table.index = [\"AIC_list\",\"QUBO_list\",\"Accuracy\",\"R2\",\"CN\"]\n",
    "\n",
    "\n",
    "random_index = str(random.randrange(0,99999)).zfill(5)\n",
    "\n",
    "result_table.to_csv(\"result/simulation_logistic/linear_samples_with_intercept\"+random_index+\".csv\")\n",
    "\n",
    "print(result_table)"
   ]
  },
  {
   "cell_type": "code",
   "execution_count": 12,
   "metadata": {},
   "outputs": [
    {
     "data": {
      "text/html": [
       "<div>\n",
       "<style scoped>\n",
       "    .dataframe tbody tr th:only-of-type {\n",
       "        vertical-align: middle;\n",
       "    }\n",
       "\n",
       "    .dataframe tbody tr th {\n",
       "        vertical-align: top;\n",
       "    }\n",
       "\n",
       "    .dataframe thead th {\n",
       "        text-align: right;\n",
       "    }\n",
       "</style>\n",
       "<table border=\"1\" class=\"dataframe\">\n",
       "  <thead>\n",
       "    <tr style=\"text-align: right;\">\n",
       "      <th></th>\n",
       "      <th>Original</th>\n",
       "      <th>SA_AIC</th>\n",
       "      <th>GA_AIC</th>\n",
       "      <th>SA_QUBO</th>\n",
       "      <th>GA_QUBO</th>\n",
       "    </tr>\n",
       "  </thead>\n",
       "  <tbody>\n",
       "    <tr>\n",
       "      <th>AIC_list</th>\n",
       "      <td>-1728.93(230.07)</td>\n",
       "      <td>-1727.18(230.19)</td>\n",
       "      <td>-1727.99(231.01)</td>\n",
       "      <td>-1686.01(233.6)</td>\n",
       "      <td>-1686.01(233.6)</td>\n",
       "    </tr>\n",
       "    <tr>\n",
       "      <th>QUBO_list</th>\n",
       "      <td>0.6(0.23)</td>\n",
       "      <td>0.57(0.23)</td>\n",
       "      <td>0.59(0.25)</td>\n",
       "      <td>0.4(0.22)</td>\n",
       "      <td>0.4(0.22)</td>\n",
       "    </tr>\n",
       "    <tr>\n",
       "      <th>Accuracy</th>\n",
       "      <td>0.78(0.02)</td>\n",
       "      <td>0.81(0.02)</td>\n",
       "      <td>0.76(0.06)</td>\n",
       "      <td>0.78(0.03)</td>\n",
       "      <td>0.78(0.07)</td>\n",
       "    </tr>\n",
       "    <tr>\n",
       "      <th>R2</th>\n",
       "      <td>0.33(0.06)</td>\n",
       "      <td>0.34(0.06)</td>\n",
       "      <td>0.33(0.09)</td>\n",
       "      <td>0.33(0.08)</td>\n",
       "      <td>0.3(0.06)</td>\n",
       "    </tr>\n",
       "    <tr>\n",
       "      <th>CN</th>\n",
       "      <td>18.95(7.82)</td>\n",
       "      <td>3.7(0.86)</td>\n",
       "      <td>7.85(3.28)</td>\n",
       "      <td>5.02(3.96)</td>\n",
       "      <td>5.02(3.96)</td>\n",
       "    </tr>\n",
       "  </tbody>\n",
       "</table>\n",
       "</div>"
      ],
      "text/plain": [
       "                   Original            SA_AIC            GA_AIC  \\\n",
       "AIC_list   -1728.93(230.07)  -1727.18(230.19)  -1727.99(231.01)   \n",
       "QUBO_list         0.6(0.23)        0.57(0.23)        0.59(0.25)   \n",
       "Accuracy         0.78(0.02)        0.81(0.02)        0.76(0.06)   \n",
       "R2               0.33(0.06)        0.34(0.06)        0.33(0.09)   \n",
       "CN              18.95(7.82)         3.7(0.86)        7.85(3.28)   \n",
       "\n",
       "                   SA_QUBO          GA_QUBO  \n",
       "AIC_list   -1686.01(233.6)  -1686.01(233.6)  \n",
       "QUBO_list        0.4(0.22)        0.4(0.22)  \n",
       "Accuracy        0.78(0.03)       0.78(0.07)  \n",
       "R2              0.33(0.08)        0.3(0.06)  \n",
       "CN              5.02(3.96)       5.02(3.96)  "
      ]
     },
     "execution_count": 12,
     "metadata": {},
     "output_type": "execute_result"
    }
   ],
   "source": [
    "result_table"
   ]
  },
  {
   "cell_type": "code",
   "execution_count": 6,
   "metadata": {},
   "outputs": [],
   "source": [
    "number_samples = 500\n",
    "number_features = 20\n",
    "number_influentials = 8\n",
    "epsilon = 0\n",
    "covariance_parameter = 40\n",
    "beta_coef = np.concatenate([np.random.normal(5,2,number_influentials),np.zeros(number_features-number_influentials)])\n",
    "X,y = bf.generate_dependent_sample_logistic(number_samples,number_features,beta_coef,covariance_parameter=30,epsilon=0)\n",
    "y_type = \"binary\"\n",
    "lmbd = 0.01"
   ]
  },
  {
   "cell_type": "code",
   "execution_count": 7,
   "metadata": {},
   "outputs": [],
   "source": [
    "sa_aic = opt.SimulatedAnnealing(mode = \"AIC\",y_type=y_type)\n",
    "sa_aic_result = sa_aic.optimize(X,y,lmbd,reps=10)"
   ]
  },
  {
   "cell_type": "code",
   "execution_count": 8,
   "metadata": {},
   "outputs": [
    {
     "data": {
      "text/plain": [
       "array([1., 1., 1., 1., 1., 1., 1., 1., 1., 1., 1., 1., 0., 1., 1., 1., 1.,\n",
       "       1., 1., 1.])"
      ]
     },
     "execution_count": 8,
     "metadata": {},
     "output_type": "execute_result"
    }
   ],
   "source": [
    "sa_aic_result"
   ]
  },
  {
   "cell_type": "code",
   "execution_count": null,
   "metadata": {},
   "outputs": [],
   "source": []
  }
 ],
 "metadata": {
  "kernelspec": {
   "display_name": "Python 3.9.13 ('base')",
   "language": "python",
   "name": "python3"
  },
  "language_info": {
   "codemirror_mode": {
    "name": "ipython",
    "version": 3
   },
   "file_extension": ".py",
   "mimetype": "text/x-python",
   "name": "python",
   "nbconvert_exporter": "python",
   "pygments_lexer": "ipython3",
   "version": "3.9.13"
  },
  "orig_nbformat": 4,
  "vscode": {
   "interpreter": {
    "hash": "84fb82bab20c569585c4af9397c7309d3c8bcf8e92190772bb316fae4802aa46"
   }
  }
 },
 "nbformat": 4,
 "nbformat_minor": 2
}
