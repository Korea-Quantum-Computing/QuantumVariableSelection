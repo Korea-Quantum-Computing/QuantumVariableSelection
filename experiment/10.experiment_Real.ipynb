{
 "cells": [
  {
   "cell_type": "code",
   "execution_count": 1,
   "metadata": {},
   "outputs": [],
   "source": [
    "import os\n",
    "### QAOA_realestate가 있는 폴더로 지정\n",
    "dir_path = \"/Users/minhyeong-gyu/Documents/GitHub/QuantumVariableSelection\"\n",
    "os.chdir(dir_path)\n",
    "import sys\n",
    "module_path = dir_path + \"/Module\"\n",
    "if module_path not in sys.path:\n",
    "    sys.path.append(module_path)\n",
    "\n",
    "from optimizer import optimizer as opt\n",
    "from optimizer import basefunctions as bf\n",
    "\n",
    "import numpy as np\n",
    "import pandas as pd\n",
    "import matplotlib.pyplot as plt \n",
    "from matplotlib import font_manager, rc\n",
    "# 윈도우 한글 폰트\n",
    "# font_path = \"C:/Windows/Fonts/NGULIM.TTF\"\n",
    "# font = font_manager.FontProperties(fname=font_path).get_name()\n",
    "# rc('font', family=font)\n",
    "\n",
    "# Mac 한글 폰트\n",
    "rc('font', family='AppleGothic')\n",
    "plt.rcParams['axes.unicode_minus'] = False\n",
    "\n",
    "import seaborn as sns\n",
    "from dwave.system import LeapHybridCQMSampler\n",
    "%matplotlib inline"
   ]
  },
  {
   "cell_type": "code",
   "execution_count": 80,
   "metadata": {},
   "outputs": [],
   "source": [
    "data1 = pd.read_csv(\"./data/real_data/1. NMES1988.csv\").iloc[:,1:]\n",
    "y = data1['visits'].values\n",
    "X = data1.loc[:,['nvisits', 'ovisits', 'novisits', 'emergency', 'hospital',\"chronic\",\"age\",\"income\",\"school\"]].values\n",
    "y_type = \"linear\"\n",
    "lmbd = 0.01\n",
    "n_features=5"
   ]
  },
  {
   "cell_type": "code",
   "execution_count": 81,
   "metadata": {},
   "outputs": [
    {
     "name": "stderr",
     "output_type": "stream",
     "text": [
      "/Users/minhyeong-gyu/Documents/GitHub/QuantumVariableSelection/Module/optimizer/basefunctions.py:97: RuntimeWarning: invalid value encountered in reciprocal\n",
      "  result = np.array(SSRP)**(-1)*SSRF\n"
     ]
    },
    {
     "data": {
      "text/html": [
       "<div>\n",
       "<style scoped>\n",
       "    .dataframe tbody tr th:only-of-type {\n",
       "        vertical-align: middle;\n",
       "    }\n",
       "\n",
       "    .dataframe tbody tr th {\n",
       "        vertical-align: top;\n",
       "    }\n",
       "\n",
       "    .dataframe thead th {\n",
       "        text-align: right;\n",
       "    }\n",
       "</style>\n",
       "<table border=\"1\" class=\"dataframe\">\n",
       "  <thead>\n",
       "    <tr style=\"text-align: right;\">\n",
       "      <th></th>\n",
       "      <th>Full</th>\n",
       "      <th>MIC</th>\n",
       "      <th>Ord R2</th>\n",
       "      <th>Partial R2</th>\n",
       "    </tr>\n",
       "  </thead>\n",
       "  <tbody>\n",
       "    <tr>\n",
       "      <th>R_Squared</th>\n",
       "      <td>0.067316</td>\n",
       "      <td>0.021184</td>\n",
       "      <td>0.016850</td>\n",
       "      <td>0.068876</td>\n",
       "    </tr>\n",
       "    <tr>\n",
       "      <th>CN</th>\n",
       "      <td>1.850417</td>\n",
       "      <td>1.792673</td>\n",
       "      <td>1.778375</td>\n",
       "      <td>1.296845</td>\n",
       "    </tr>\n",
       "  </tbody>\n",
       "</table>\n",
       "</div>"
      ],
      "text/plain": [
       "               Full       MIC    Ord R2  Partial R2\n",
       "R_Squared  0.067316  0.021184  0.016850    0.068876\n",
       "CN         1.850417  1.792673  1.778375    1.296845"
      ]
     },
     "execution_count": 81,
     "metadata": {},
     "output_type": "execute_result"
    }
   ],
   "source": [
    "sa_mi = opt.SimulatedAnnealing(\"QUBO\",y_type=y_type,measure=\"mi\")\n",
    "sa_mi_result = sa_mi.optimize(X,y,lmbd,reps=10,n_features=n_features)\n",
    "sa_full = opt.SimulatedAnnealing(\"QUBO\",y_type=y_type,measure=\"full\")\n",
    "sa_full_result = sa_full.optimize(X,y,lmbd,reps=10,n_features=n_features)\n",
    "sa_partial = opt.SimulatedAnnealing(\"QUBO\",y_type=y_type,measure=\"partial\")\n",
    "sa_partial_result = sa_partial.optimize(X,y,lmbd,reps=10,n_features=n_features)\n",
    "X_mi = X[:,sa_mi_result.astype(bool)]\n",
    "X_full = X[:,sa_full_result.astype(bool)]\n",
    "X_partial = X[:,sa_partial_result.astype(bool)]\n",
    "datasets = [X,X_mi,X_full,X_partial]\n",
    "rsquared_list = []\n",
    "CN_list = []\n",
    "for i in range(4) :\n",
    "    dataset = datasets[i]\n",
    "    rsquared_list += [bf.get_cv_r2(dataset,y)]\n",
    "    CN_list += [bf.get_CN(dataset)]\n",
    "result = pd.DataFrame([rsquared_list,CN_list])\n",
    "result.index = [\"R_Squared\",\"CN\"]\n",
    "result.columns = [\"Full\",\"MIC\",\"Ord R2\",\"Partial R2\"]\n",
    "result1 = result\n",
    "result"
   ]
  },
  {
   "cell_type": "code",
   "execution_count": 161,
   "metadata": {},
   "outputs": [],
   "source": [
    "data2 = pd.read_csv(\"./data/real_data/2. CASchools.csv\").iloc[:,1:]\n",
    "y = data2[\"expenditure\"].values\n",
    "X = data2.loc[:,[\"students\",\"calworks\",\"lunch\",\"computer\",\"income\",\"english\",\"read\",\"math\"]].values\n",
    "lmbd = 0.01\n",
    "n_features=5"
   ]
  },
  {
   "cell_type": "code",
   "execution_count": 162,
   "metadata": {},
   "outputs": [
    {
     "data": {
      "text/html": [
       "<div>\n",
       "<style scoped>\n",
       "    .dataframe tbody tr th:only-of-type {\n",
       "        vertical-align: middle;\n",
       "    }\n",
       "\n",
       "    .dataframe tbody tr th {\n",
       "        vertical-align: top;\n",
       "    }\n",
       "\n",
       "    .dataframe thead th {\n",
       "        text-align: right;\n",
       "    }\n",
       "</style>\n",
       "<table border=\"1\" class=\"dataframe\">\n",
       "  <thead>\n",
       "    <tr style=\"text-align: right;\">\n",
       "      <th></th>\n",
       "      <th>Full</th>\n",
       "      <th>MIC</th>\n",
       "      <th>Ord R2</th>\n",
       "      <th>Partial R2</th>\n",
       "    </tr>\n",
       "  </thead>\n",
       "  <tbody>\n",
       "    <tr>\n",
       "      <th>R_Squared</th>\n",
       "      <td>0.111190</td>\n",
       "      <td>0.060473</td>\n",
       "      <td>0.022614</td>\n",
       "      <td>0.108611</td>\n",
       "    </tr>\n",
       "    <tr>\n",
       "      <th>CN</th>\n",
       "      <td>8.861036</td>\n",
       "      <td>4.234118</td>\n",
       "      <td>6.188206</td>\n",
       "      <td>5.607543</td>\n",
       "    </tr>\n",
       "  </tbody>\n",
       "</table>\n",
       "</div>"
      ],
      "text/plain": [
       "               Full       MIC    Ord R2  Partial R2\n",
       "R_Squared  0.111190  0.060473  0.022614    0.108611\n",
       "CN         8.861036  4.234118  6.188206    5.607543"
      ]
     },
     "execution_count": 162,
     "metadata": {},
     "output_type": "execute_result"
    }
   ],
   "source": [
    "sa_mi = opt.SimulatedAnnealing(\"QUBO\",y_type=y_type,measure=\"mi\")\n",
    "sa_mi_result = sa_mi.optimize(X,y,lmbd,reps=10,n_features=n_features)\n",
    "sa_full = opt.SimulatedAnnealing(\"QUBO\",y_type=y_type,measure=\"full\")\n",
    "sa_full_result = sa_full.optimize(X,y,lmbd,reps=10,n_features=n_features)\n",
    "sa_partial = opt.SimulatedAnnealing(\"QUBO\",y_type=y_type,measure=\"partial\")\n",
    "sa_partial_result = sa_partial.optimize(X,y,lmbd,reps=10,n_features=n_features)\n",
    "X_mi = X[:,sa_mi_result.astype(bool)]\n",
    "X_full = X[:,sa_full_result.astype(bool)]\n",
    "X_partial = X[:,sa_partial_result.astype(bool)]\n",
    "datasets = [X,X_mi,X_full,X_partial]\n",
    "rsquared_list = []\n",
    "CN_list = []\n",
    "for i in range(4) :\n",
    "    dataset = datasets[i]\n",
    "    rsquared_list += [bf.get_cv_r2(dataset,y)]\n",
    "    CN_list += [bf.get_CN(dataset)]\n",
    "result = pd.DataFrame([rsquared_list,CN_list])\n",
    "result.index = [\"R_Squared\",\"CN\"]\n",
    "result.columns = [\"Full\",\"MIC\",\"Ord R2\",\"Partial R2\"]\n",
    "result2 = result\n",
    "result"
   ]
  },
  {
   "cell_type": "code",
   "execution_count": 160,
   "metadata": {},
   "outputs": [],
   "source": [
    "data3 = pd.read_csv(\"./data/real_data/3. Guns.csv\").iloc[:,1:]\n",
    "data3[\"law\"] = np.array(data3[\"law\"]==\"yes\")*1\n",
    "y = data3['violent'].values\n",
    "X = data3.loc[:,[ 'murder', 'robbery', 'prisoners', 'afam', 'cauc',\n",
    "       'male', 'population', 'income', 'density',\"law\"]].values\n",
    "lmbd = 0.01\n",
    "n_features=5"
   ]
  },
  {
   "cell_type": "code",
   "execution_count": 126,
   "metadata": {},
   "outputs": [
    {
     "data": {
      "text/html": [
       "<div>\n",
       "<style scoped>\n",
       "    .dataframe tbody tr th:only-of-type {\n",
       "        vertical-align: middle;\n",
       "    }\n",
       "\n",
       "    .dataframe tbody tr th {\n",
       "        vertical-align: top;\n",
       "    }\n",
       "\n",
       "    .dataframe thead th {\n",
       "        text-align: right;\n",
       "    }\n",
       "</style>\n",
       "<table border=\"1\" class=\"dataframe\">\n",
       "  <thead>\n",
       "    <tr style=\"text-align: right;\">\n",
       "      <th></th>\n",
       "      <th>Full</th>\n",
       "      <th>MIC</th>\n",
       "      <th>Ord R2</th>\n",
       "      <th>Partial R2</th>\n",
       "    </tr>\n",
       "  </thead>\n",
       "  <tbody>\n",
       "    <tr>\n",
       "      <th>R_Squared</th>\n",
       "      <td>0.682455</td>\n",
       "      <td>0.635303</td>\n",
       "      <td>0.673382</td>\n",
       "      <td>0.639515</td>\n",
       "    </tr>\n",
       "    <tr>\n",
       "      <th>CN</th>\n",
       "      <td>19.678433</td>\n",
       "      <td>14.304242</td>\n",
       "      <td>4.594683</td>\n",
       "      <td>4.293022</td>\n",
       "    </tr>\n",
       "  </tbody>\n",
       "</table>\n",
       "</div>"
      ],
      "text/plain": [
       "                Full        MIC    Ord R2  Partial R2\n",
       "R_Squared   0.682455   0.635303  0.673382    0.639515\n",
       "CN         19.678433  14.304242  4.594683    4.293022"
      ]
     },
     "execution_count": 126,
     "metadata": {},
     "output_type": "execute_result"
    }
   ],
   "source": [
    "sa_mi = opt.SimulatedAnnealing(\"QUBO\",y_type=y_type,measure=\"mi\")\n",
    "sa_mi_result = sa_mi.optimize(X,y,lmbd,reps=10,n_features=n_features)\n",
    "sa_full = opt.SimulatedAnnealing(\"QUBO\",y_type=y_type,measure=\"full\")\n",
    "sa_full_result = sa_full.optimize(X,y,lmbd,reps=10,n_features=n_features)\n",
    "sa_partial = opt.SimulatedAnnealing(\"QUBO\",y_type=y_type,measure=\"partial\")\n",
    "sa_partial_result = sa_partial.optimize(X,y,lmbd,reps=10,n_features=n_features)\n",
    "X_mi = X[:,sa_mi_result.astype(bool)]\n",
    "X_full = X[:,sa_full_result.astype(bool)]\n",
    "X_partial = X[:,sa_partial_result.astype(bool)]\n",
    "datasets = [X,X_mi,X_full,X_partial]\n",
    "rsquared_list = []\n",
    "CN_list = []\n",
    "for i in range(4) :\n",
    "    dataset = datasets[i]\n",
    "    rsquared_list += [bf.get_cv_r2(dataset,y)]\n",
    "    CN_list += [bf.get_CN(dataset)]\n",
    "result = pd.DataFrame([rsquared_list,CN_list])\n",
    "result.index = [\"R_Squared\",\"CN\"]\n",
    "result.columns = [\"Full\",\"MIC\",\"Ord R2\",\"Partial R2\"]\n",
    "result3 = result\n",
    "result"
   ]
  },
  {
   "cell_type": "code",
   "execution_count": 86,
   "metadata": {},
   "outputs": [],
   "source": [
    "data4 = pd.read_csv(\"./data/real_data/4. MASchools.csv\").iloc[:,1:]\n",
    "data4 = data4.loc[:,[ 'expreg', 'expspecial', 'expbil', 'expocc',\n",
    "       'exptot', 'scratio', 'special', 'lunch', 'stratio','score4', 'income','english']].dropna()\n",
    "y = data4['income'].values\n",
    "X = data4.loc[:,[ 'expreg', 'expspecial', 'expbil', 'expocc',\n",
    "       'exptot', 'scratio', 'special', 'lunch', 'stratio','english']].dropna().values\n",
    "lmbd = 0.01\n",
    "n_features = 5"
   ]
  },
  {
   "cell_type": "code",
   "execution_count": 87,
   "metadata": {},
   "outputs": [
    {
     "data": {
      "text/html": [
       "<div>\n",
       "<style scoped>\n",
       "    .dataframe tbody tr th:only-of-type {\n",
       "        vertical-align: middle;\n",
       "    }\n",
       "\n",
       "    .dataframe tbody tr th {\n",
       "        vertical-align: top;\n",
       "    }\n",
       "\n",
       "    .dataframe thead th {\n",
       "        text-align: right;\n",
       "    }\n",
       "</style>\n",
       "<table border=\"1\" class=\"dataframe\">\n",
       "  <thead>\n",
       "    <tr style=\"text-align: right;\">\n",
       "      <th></th>\n",
       "      <th>Full</th>\n",
       "      <th>MIC</th>\n",
       "      <th>Ord R2</th>\n",
       "      <th>Partial R2</th>\n",
       "    </tr>\n",
       "  </thead>\n",
       "  <tbody>\n",
       "    <tr>\n",
       "      <th>R_Squared</th>\n",
       "      <td>0.238252</td>\n",
       "      <td>0.260420</td>\n",
       "      <td>0.257841</td>\n",
       "      <td>0.314965</td>\n",
       "    </tr>\n",
       "    <tr>\n",
       "      <th>CN</th>\n",
       "      <td>9.575417</td>\n",
       "      <td>8.688521</td>\n",
       "      <td>8.237363</td>\n",
       "      <td>2.022525</td>\n",
       "    </tr>\n",
       "  </tbody>\n",
       "</table>\n",
       "</div>"
      ],
      "text/plain": [
       "               Full       MIC    Ord R2  Partial R2\n",
       "R_Squared  0.238252  0.260420  0.257841    0.314965\n",
       "CN         9.575417  8.688521  8.237363    2.022525"
      ]
     },
     "execution_count": 87,
     "metadata": {},
     "output_type": "execute_result"
    }
   ],
   "source": [
    "sa_mi = opt.SimulatedAnnealing(\"QUBO\",y_type=y_type,measure=\"mi\")\n",
    "sa_mi_result = sa_mi.optimize(X,y,lmbd,reps=10,n_features=n_features)\n",
    "sa_full = opt.SimulatedAnnealing(\"QUBO\",y_type=y_type,measure=\"full\")\n",
    "sa_full_result = sa_full.optimize(X,y,lmbd,reps=10,n_features=n_features)\n",
    "sa_partial = opt.SimulatedAnnealing(\"QUBO\",y_type=y_type,measure=\"partial\")\n",
    "sa_partial_result = sa_partial.optimize(X,y,lmbd,reps=10,n_features=n_features)\n",
    "X_mi = X[:,sa_mi_result.astype(bool)]\n",
    "X_full = X[:,sa_full_result.astype(bool)]\n",
    "X_partial = X[:,sa_partial_result.astype(bool)]\n",
    "datasets = [X,X_mi,X_full,X_partial]\n",
    "rsquared_list = []\n",
    "CN_list = []\n",
    "for i in range(4) :\n",
    "    dataset = datasets[i]\n",
    "    rsquared_list += [bf.get_cv_r2(dataset,y)]\n",
    "    CN_list += [bf.get_CN(dataset)]\n",
    "result = pd.DataFrame([rsquared_list,CN_list])\n",
    "result.index = [\"R_Squared\",\"CN\"]\n",
    "result.columns = [\"Full\",\"MIC\",\"Ord R2\",\"Partial R2\"]\n",
    "result4 = result\n",
    "result"
   ]
  },
  {
   "cell_type": "code",
   "execution_count": 123,
   "metadata": {},
   "outputs": [],
   "source": [
    "data5 = pd.read_csv(\"./data/real_data/5. Mortgage.csv\").iloc[:,1:]\n",
    "data5[\"married\"] = np.array(data5[\"married\"]==\"yes\")*1\n",
    "data5[\"first\"] = np.array(data5[\"first\"]==\"yes\")*1\n",
    "data5[\"selfemp\"] = np.array(data5[\"selfemp\"]==\"yes\")*1\n",
    "data5[\"coborrower\"] = np.array(data5[\"coborrower\"]==\"yes\")*1\n",
    "y = data5['liability'].values\n",
    "X = data5.loc[:,[ 'age', 'school', 'networth', 'interest', 'points', 'maturities',\n",
    "       'years',   'tdiff', 'margin', 'liquid']].dropna().values\n",
    "lmbd = 0.01\n",
    "n_features = 5"
   ]
  },
  {
   "cell_type": "code",
   "execution_count": 124,
   "metadata": {},
   "outputs": [
    {
     "data": {
      "text/html": [
       "<div>\n",
       "<style scoped>\n",
       "    .dataframe tbody tr th:only-of-type {\n",
       "        vertical-align: middle;\n",
       "    }\n",
       "\n",
       "    .dataframe tbody tr th {\n",
       "        vertical-align: top;\n",
       "    }\n",
       "\n",
       "    .dataframe thead th {\n",
       "        text-align: right;\n",
       "    }\n",
       "</style>\n",
       "<table border=\"1\" class=\"dataframe\">\n",
       "  <thead>\n",
       "    <tr style=\"text-align: right;\">\n",
       "      <th></th>\n",
       "      <th>Full</th>\n",
       "      <th>MIC</th>\n",
       "      <th>Ord R2</th>\n",
       "      <th>Partial R2</th>\n",
       "    </tr>\n",
       "  </thead>\n",
       "  <tbody>\n",
       "    <tr>\n",
       "      <th>R_Squared</th>\n",
       "      <td>0.035189</td>\n",
       "      <td>-0.085349</td>\n",
       "      <td>-0.084196</td>\n",
       "      <td>0.034429</td>\n",
       "    </tr>\n",
       "    <tr>\n",
       "      <th>CN</th>\n",
       "      <td>3.110316</td>\n",
       "      <td>1.828956</td>\n",
       "      <td>2.223078</td>\n",
       "      <td>1.710029</td>\n",
       "    </tr>\n",
       "  </tbody>\n",
       "</table>\n",
       "</div>"
      ],
      "text/plain": [
       "               Full       MIC    Ord R2  Partial R2\n",
       "R_Squared  0.035189 -0.085349 -0.084196    0.034429\n",
       "CN         3.110316  1.828956  2.223078    1.710029"
      ]
     },
     "execution_count": 124,
     "metadata": {},
     "output_type": "execute_result"
    }
   ],
   "source": [
    "sa_mi = opt.SimulatedAnnealing(\"QUBO\",y_type=y_type,measure=\"mi\")\n",
    "sa_mi_result = sa_mi.optimize(X,y,lmbd,reps=10,n_features=n_features)\n",
    "sa_full = opt.SimulatedAnnealing(\"QUBO\",y_type=y_type,measure=\"full\")\n",
    "sa_full_result = sa_full.optimize(X,y,lmbd,reps=10,n_features=n_features)\n",
    "sa_partial = opt.SimulatedAnnealing(\"QUBO\",y_type=y_type,measure=\"partial\")\n",
    "sa_partial_result = sa_partial.optimize(X,y,lmbd,reps=10,n_features=n_features)\n",
    "X_mi = X[:,sa_mi_result.astype(bool)]\n",
    "X_full = X[:,sa_full_result.astype(bool)]\n",
    "X_partial = X[:,sa_partial_result.astype(bool)]\n",
    "datasets = [X,X_mi,X_full,X_partial]\n",
    "rsquared_list = []\n",
    "CN_list = []\n",
    "for i in range(4) :\n",
    "    dataset = datasets[i]\n",
    "    rsquared_list += [bf.get_cv_r2(dataset,y)]\n",
    "    CN_list += [bf.get_CN(dataset)]\n",
    "result = pd.DataFrame([rsquared_list,CN_list])\n",
    "result.index = [\"R_Squared\",\"CN\"]\n",
    "result.columns = [\"Full\",\"MIC\",\"Ord R2\",\"Partial R2\"]\n",
    "result5 = result\n",
    "result"
   ]
  },
  {
   "cell_type": "code",
   "execution_count": 163,
   "metadata": {},
   "outputs": [],
   "source": [
    "r2_list = [] \n",
    "cn_list = []\n",
    "for i in range(5):\n",
    "    r2_list += (eval(\"result\"+str(i+1))).iloc[0,:].tolist()\n",
    "    cn_list += (eval(\"result\"+str(i+1))).iloc[1,:].tolist()"
   ]
  },
  {
   "cell_type": "code",
   "execution_count": 164,
   "metadata": {},
   "outputs": [],
   "source": [
    "result_plot = pd.DataFrame([[\"dataset\"+str(j) for j in range(5) for i in range(4)],np.array([[\"Full\",\"MIC\",\"Ord R2\",\"Partial R2\"] for j in range(5)]).flatten().tolist(),r2_list,cn_list]).T\n",
    "result_plot.columns = [\"Dataset\",\"Measure\",\"R2\",\"CN\"]"
   ]
  },
  {
   "cell_type": "code",
   "execution_count": 165,
   "metadata": {},
   "outputs": [
    {
     "data": {
      "image/png": "[encoded data removed]",
      "text/plain": [
       "<Figure size 640x480 with 1 Axes>"
      ]
     },
     "metadata": {},
     "output_type": "display_data"
    }
   ],
   "source": [
    "sns.barplot(x=\"Dataset\",y=\"R2\",hue=\"Measure\",data=result_plot)\n",
    "plt.title(\"R2 for Real Data\")\n",
    "plt.show()\n"
   ]
  },
  {
   "cell_type": "code",
   "execution_count": 166,
   "metadata": {},
   "outputs": [
    {
     "data": {
      "image/png": "[encoded data removed]",
      "text/plain": [
       "<Figure size 640x480 with 1 Axes>"
      ]
     },
     "metadata": {},
     "output_type": "display_data"
    }
   ],
   "source": [
    "sns.barplot(x=\"Dataset\",y=\"CN\",hue=\"Measure\",data=result_plot)\n",
    "plt.title(\"CN for Real Data\")\n",
    "plt.show()"
   ]
  },
  {
   "cell_type": "code",
   "execution_count": null,
   "metadata": {},
   "outputs": [],
   "source": []
  }
 ],
 "metadata": {
  "kernelspec": {
   "display_name": "Python 3.9.13 ('base')",
   "language": "python",
   "name": "python3"
  },
  "language_info": {
   "codemirror_mode": {
    "name": "ipython",
    "version": 3
   },
   "file_extension": ".py",
   "mimetype": "text/x-python",
   "name": "python",
   "nbconvert_exporter": "python",
   "pygments_lexer": "ipython3",
   "version": "3.9.13"
  },
  "orig_nbformat": 4,
  "vscode": {
   "interpreter": {
    "hash": "84fb82bab20c569585c4af9397c7309d3c8bcf8e92190772bb316fae4802aa46"
   }
  }
 },
 "nbformat": 4,
 "nbformat_minor": 2
}
